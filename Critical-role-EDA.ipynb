{
 "cells": [
  {
   "cell_type": "markdown",
   "metadata": {},
   "source": [
    "# Assignment 2: Data Cleaning and EDA\n",
    "## Critical Role Campaign 2: Dice Roll Analysis\n",
    "Nicole Gunther Guerrero\n",
    "\n",
    "**Dataset:** All recorded dice rolls from *Critical Role* Campaign 2  \n",
    "**Source:** Fan-compiled data from CritRole Stats https://www.critrolestats.com/stats-wm \n",
    "\n",
    "### Dataset structure\n",
    "\n",
    "- Episode\t\n",
    "- Time\t\n",
    "- Character\t\n",
    "- Type of Roll\t\n",
    "- Total Value\t\n",
    "- Natural Value\t\n",
    "- Crit?\t\n",
    "- Damage Dealt\t\n",
    "- \"# Kills\"\t\n",
    "- Notes\n",
    "\n",
    "#### What is Critical Role?\n",
    "\n",
    "*Critical Role* is a web series where professional voice actors play Dungeons & Dragons. Campaign 2 follows the adventures of a party known as the **Mighty Nein** as they journey across the continent of Wildemount. The show has a massive fanbase and streams weekly on Twitch and YouTube.\n",
    "\n",
    "In Dungeons & Dragons, gameplay depends on dice (a twenty sided dice in this case), rolls that determine success or failure in combat, social interaction, and skill-based challenges. Every action, from persuasion to smiting a demon, starts with a roll.\n",
    "\n",
    "### Why Analyse Dice Rolls?\n",
    "\n",
    "This project explores the storytelling patterns, skills, battles, and player behaviours behind the scenes of *Critical Role*'s second campaign. We'll investigate:\n",
    "- Individual player luck (critical hits/fails) - when the dice lands on a 20 or 1.\n",
    "- Roll type distributions\n",
    "- Episode pacing and roll frequency\n",
    "- Combat vs. Role-Play (skill checks)\n",
    "\n",
    "The goal is to turn raw dice data into a story: who took the biggest risks? Who had the worst luck streaks? And is the dice god truly chaotic?"
   ]
  },
  {
   "cell_type": "markdown",
   "metadata": {},
   "source": [
    "***\n",
    "## Data Loading\n",
    "To start we will import the necesary libraries as well as the dataset.\n",
    "- pandas -> data manipulation and analysis.\n",
    "- re -> search, extract, manipulate text patterns (for data cleaning).\n",
    "- plotly.express and plotly.graph_objects -> interactive visualisations.\n",
    "- make_subplots from plotly.subplots -> combine multiple plots into one figure.\n",
    "- seaborn -> better looking plots and more information in them.\n",
    "\n",
    "And get our first view on the structure and general information."
   ]
  },
  {
   "cell_type": "code",
   "execution_count": 31,
   "metadata": {},
   "outputs": [
    {
     "data": {
      "text/html": [
       "<div>\n",
       "<style scoped>\n",
       "    .dataframe tbody tr th:only-of-type {\n",
       "        vertical-align: middle;\n",
       "    }\n",
       "\n",
       "    .dataframe tbody tr th {\n",
       "        vertical-align: top;\n",
       "    }\n",
       "\n",
       "    .dataframe thead th {\n",
       "        text-align: right;\n",
       "    }\n",
       "</style>\n",
       "<table border=\"1\" class=\"dataframe\">\n",
       "  <thead>\n",
       "    <tr style=\"text-align: right;\">\n",
       "      <th></th>\n",
       "      <th>Episode</th>\n",
       "      <th>Time</th>\n",
       "      <th>Character</th>\n",
       "      <th>Type of Roll</th>\n",
       "      <th>Total Value</th>\n",
       "      <th>Natural Value</th>\n",
       "      <th>Crit?</th>\n",
       "      <th>Damage Dealt</th>\n",
       "      <th># Kills</th>\n",
       "      <th>Notes</th>\n",
       "    </tr>\n",
       "  </thead>\n",
       "  <tbody>\n",
       "    <tr>\n",
       "      <th>0</th>\n",
       "      <td>C2E001</td>\n",
       "      <td>0:35:40</td>\n",
       "      <td>Fjord</td>\n",
       "      <td>Perception</td>\n",
       "      <td>Nat20</td>\n",
       "      <td>20</td>\n",
       "      <td>NaN</td>\n",
       "      <td>NaN</td>\n",
       "      <td>NaN</td>\n",
       "      <td>NaN</td>\n",
       "    </tr>\n",
       "    <tr>\n",
       "      <th>1</th>\n",
       "      <td>C2E001</td>\n",
       "      <td>0:39:22</td>\n",
       "      <td>Jester</td>\n",
       "      <td>Perception</td>\n",
       "      <td>22</td>\n",
       "      <td>19</td>\n",
       "      <td>NaN</td>\n",
       "      <td>NaN</td>\n",
       "      <td>NaN</td>\n",
       "      <td>NaN</td>\n",
       "    </tr>\n",
       "    <tr>\n",
       "      <th>2</th>\n",
       "      <td>C2E001</td>\n",
       "      <td>0:39:30</td>\n",
       "      <td>Beau</td>\n",
       "      <td>Perception</td>\n",
       "      <td>19</td>\n",
       "      <td>16</td>\n",
       "      <td>NaN</td>\n",
       "      <td>NaN</td>\n",
       "      <td>NaN</td>\n",
       "      <td>NaN</td>\n",
       "    </tr>\n",
       "    <tr>\n",
       "      <th>3</th>\n",
       "      <td>C2E001</td>\n",
       "      <td>0:43:04</td>\n",
       "      <td>Beau</td>\n",
       "      <td>Insight</td>\n",
       "      <td>13</td>\n",
       "      <td>8</td>\n",
       "      <td>NaN</td>\n",
       "      <td>NaN</td>\n",
       "      <td>NaN</td>\n",
       "      <td>NaN</td>\n",
       "    </tr>\n",
       "    <tr>\n",
       "      <th>4</th>\n",
       "      <td>C2E001</td>\n",
       "      <td>0:50:37</td>\n",
       "      <td>Molly</td>\n",
       "      <td>Insight</td>\n",
       "      <td>16</td>\n",
       "      <td>11</td>\n",
       "      <td>NaN</td>\n",
       "      <td>NaN</td>\n",
       "      <td>NaN</td>\n",
       "      <td>NaN</td>\n",
       "    </tr>\n",
       "  </tbody>\n",
       "</table>\n",
       "</div>"
      ],
      "text/plain": [
       "  Episode     Time Character Type of Roll Total Value Natural Value Crit?  \\\n",
       "0  C2E001  0:35:40     Fjord   Perception       Nat20            20   NaN   \n",
       "1  C2E001  0:39:22    Jester   Perception          22            19   NaN   \n",
       "2  C2E001  0:39:30      Beau   Perception          19            16   NaN   \n",
       "3  C2E001  0:43:04      Beau      Insight          13             8   NaN   \n",
       "4  C2E001  0:50:37     Molly      Insight          16            11   NaN   \n",
       "\n",
       "  Damage Dealt # Kills Notes  \n",
       "0          NaN     NaN   NaN  \n",
       "1          NaN     NaN   NaN  \n",
       "2          NaN     NaN   NaN  \n",
       "3          NaN     NaN   NaN  \n",
       "4          NaN     NaN   NaN  "
      ]
     },
     "execution_count": 31,
     "metadata": {},
     "output_type": "execute_result"
    }
   ],
   "source": [
    "import pandas as pd\n",
    "import re\n",
    "import plotly.express as px\n",
    "import plotly.graph_objects as go\n",
    "import seaborn as sns\n",
    "\n",
    "# Load dataset\n",
    "df = pd.read_csv(\"CritRole_M9_allRolls.csv\")\n",
    "\n",
    "# Show the first 5 rows to get a sense of the data\n",
    "df.head()\n"
   ]
  },
  {
   "cell_type": "code",
   "execution_count": 32,
   "metadata": {},
   "outputs": [
    {
     "name": "stdout",
     "output_type": "stream",
     "text": [
      "<class 'pandas.core.frame.DataFrame'>\n",
      "RangeIndex: 15364 entries, 0 to 15363\n",
      "Data columns (total 10 columns):\n",
      " #   Column         Non-Null Count  Dtype \n",
      "---  ------         --------------  ----- \n",
      " 0   Episode        15363 non-null  object\n",
      " 1   Time           15364 non-null  object\n",
      " 2   Character      15364 non-null  object\n",
      " 3   Type of Roll   15364 non-null  object\n",
      " 4   Total Value    15358 non-null  object\n",
      " 5   Natural Value  12553 non-null  object\n",
      " 6   Crit?          89 non-null     object\n",
      " 7   Damage Dealt   2518 non-null   object\n",
      " 8   # Kills        338 non-null    object\n",
      " 9   Notes          7510 non-null   object\n",
      "dtypes: object(10)\n",
      "memory usage: 1.2+ MB\n",
      "None\n"
     ]
    }
   ],
   "source": [
    "# Lets check the structure of the dataset\n",
    "print(df.info())"
   ]
  },
  {
   "cell_type": "code",
   "execution_count": 33,
   "metadata": {},
   "outputs": [
    {
     "data": {
      "text/plain": [
       "Episode              1\n",
       "Time                 0\n",
       "Character            0\n",
       "Type of Roll         0\n",
       "Total Value          6\n",
       "Natural Value     2811\n",
       "Crit?            15275\n",
       "Damage Dealt     12846\n",
       "# Kills          15026\n",
       "Notes             7854\n",
       "dtype: int64"
      ]
     },
     "execution_count": 33,
     "metadata": {},
     "output_type": "execute_result"
    }
   ],
   "source": [
    "df.isnull().sum()"
   ]
  },
  {
   "cell_type": "markdown",
   "metadata": {},
   "source": [
    "Check for duplicates and deal with them if found."
   ]
  },
  {
   "cell_type": "code",
   "execution_count": null,
   "metadata": {},
   "outputs": [
    {
     "data": {
      "text/plain": [
       "np.int64(36)"
      ]
     },
     "execution_count": 34,
     "metadata": {},
     "output_type": "execute_result"
    }
   ],
   "source": [
    "# Check for duplicates \n",
    "df.duplicated().sum()\n"
   ]
  },
  {
   "cell_type": "code",
   "execution_count": 35,
   "metadata": {},
   "outputs": [],
   "source": [
    "# Drop duplicates if any\n",
    "df.drop_duplicates(inplace=True)"
   ]
  },
  {
   "cell_type": "code",
   "execution_count": 36,
   "metadata": {},
   "outputs": [
    {
     "data": {
      "text/plain": [
       "np.int64(0)"
      ]
     },
     "execution_count": 36,
     "metadata": {},
     "output_type": "execute_result"
    }
   ],
   "source": [
    "# Check for duplicates again\n",
    "df.duplicated().sum()"
   ]
  },
  {
   "cell_type": "markdown",
   "metadata": {},
   "source": [
    "***\n",
    "## Data Cleaning"
   ]
  },
  {
   "cell_type": "markdown",
   "metadata": {},
   "source": [
    "### Processing Episode Information\n",
    "\n",
    "The `Episode` column contains strings like `C2E001`, which indicate the episode number in Campaign 2. For analysis and plotting purposes, it's helpful to extract the episode number as an integer so we can sort episodes chronologically.\n",
    "\n",
    "In this step, we will:\n",
    "- Create a new column called `Episode_Num` that contains the numerical episode value\n",
    "- Convert it to an integer for proper ordering and plotting\n"
   ]
  },
  {
   "cell_type": "code",
   "execution_count": 37,
   "metadata": {},
   "outputs": [
    {
     "name": "stdout",
     "output_type": "stream",
     "text": [
      "Unique episode numbers found: [np.float64(1.0), np.float64(2.0), np.float64(3.0), np.float64(4.0), np.float64(5.0), np.float64(6.0), np.float64(7.0), np.float64(8.0), np.float64(9.0), np.float64(10.0)]\n"
     ]
    }
   ],
   "source": [
    "# Extract the numeric part of the episode code and convert it to an integer\n",
    "df[\"Episode_Num\"] = df[\"Episode\"].str.extract(r\"C2E(\\d+)\", expand=False)\n",
    "df[\"Episode_Num\"] = pd.to_numeric(df[\"Episode_Num\"], errors=\"coerce\")\n",
    "\n",
    "# Quick check: show first few unique episode numbers\n",
    "print(\"Unique episode numbers found:\", sorted(df[\"Episode_Num\"].dropna().unique())[:10])\n",
    "\n",
    "# Turn to integer\n",
    "df[\"Episode_Num\"] = df[\"Episode_Num\"].astype(\"Int64\")\n"
   ]
  },
  {
   "cell_type": "markdown",
   "metadata": {},
   "source": [
    "### Standardising Main Character Names\n",
    "\n",
    "To avoid duplicate entries caused by the use of player names or aliases, we are mapping all character references to their consistent campaign names. This ensures accurate analysis for each member of the Mighty Nein."
   ]
  },
  {
   "cell_type": "code",
   "execution_count": 38,
   "metadata": {},
   "outputs": [
    {
     "name": "stdout",
     "output_type": "stream",
     "text": [
      "- Balleater\n",
      "- Beau\n",
      "- Beetles\n",
      "- Caduceus\n",
      "- Caleb\n",
      "- Cali\n",
      "- Clarabelle\n",
      "- Duchess\n",
      "- Fjord\n",
      "- Frumpkin\n",
      "- Jannik\n",
      "- Jester\n",
      "- Keg\n",
      "- Lightning Spirit Liam\n",
      "- Lightning Spirit Taliesin\n",
      "- Lightning Spirit Travis\n",
      "- Molly\n",
      "- Nila\n",
      "- Nott\n",
      "- Nugget\n",
      "- Reani\n",
      "- Shakäste\n",
      "- Sprinkle\n",
      "- Spurt\n",
      "- Storm Spirit Laura\n",
      "- Storm Spirit Marisha\n",
      "- Storm Spirit Sam\n",
      "- Summoned Creature\n",
      "- Travis\n",
      "- Twiggy\n",
      "- Veth\n",
      "- Willi\n",
      "- Willie\n",
      "- Yarnball\n",
      "- Yasha\n"
     ]
    }
   ],
   "source": [
    "# Display all unique character names, sorted alphabetically\n",
    "unique_names = sorted(df[\"Character\"].dropna().unique())\n",
    "for name in unique_names:\n",
    "    print(f\"- {name}\")"
   ]
  },
  {
   "cell_type": "code",
   "execution_count": 39,
   "metadata": {},
   "outputs": [
    {
     "name": "stdout",
     "output_type": "stream",
     "text": [
      "- Balleater\n",
      "- Beau\n",
      "- Beetles\n",
      "- Caduceus\n",
      "- Caleb\n",
      "- Cali\n",
      "- Clarabelle\n",
      "- Duchess\n",
      "- Fjord\n",
      "- Frumpkin\n",
      "- Jannik\n",
      "- Jester\n",
      "- Keg\n",
      "- Lightning Spirit Liam\n",
      "- Lightning Spirit Taliesin\n",
      "- Lightning Spirit Travis\n",
      "- Molly\n",
      "- Nila\n",
      "- Nugget\n",
      "- Reani\n",
      "- Shakäste\n",
      "- Sprinkle\n",
      "- Spurt\n",
      "- Storm Spirit Laura\n",
      "- Storm Spirit Marisha\n",
      "- Storm Spirit Sam\n",
      "- Summoned Creature\n",
      "- Twiggy\n",
      "- Veth\n",
      "- Willi\n",
      "- Willie\n",
      "- Yarnball\n",
      "- Yasha\n"
     ]
    }
   ],
   "source": [
    "# Map of all alternate names to core character names\n",
    "character_fixes = {\n",
    "    \"Marisha\": \"Beau\",\n",
    "    \"Travis\": \"Fjord\",\n",
    "    \"Laura\": \"Jester\",\n",
    "    \"Sam\": \"Veth\",\n",
    "    \"Nott\": \"Veth\",\n",
    "    \"Liam\": \"Caleb\",\n",
    "    \"Ashley\": \"Yasha\",\n",
    "    \"Taliesin\": \"Caduceus\",\n",
    "    \"Mollymauk\": \"Molly\",\n",
    "}\n",
    "\n",
    "# Apply the corrections\n",
    "df[\"Character\"] = df[\"Character\"].replace(character_fixes)\n",
    "\n",
    "\n",
    "# Check results again\n",
    "unique_names = sorted(df[\"Character\"].dropna().unique())\n",
    "for name in unique_names:\n",
    "    print(f\"- {name}\")\n"
   ]
  },
  {
   "cell_type": "markdown",
   "metadata": {},
   "source": [
    "### Categorising Characters\n",
    "\n",
    "To simplify analysis, we are grouping characters into three categories:\n",
    "- **Main cast**: Cleaned and standardised earlier\n",
    "- **Guest characters**: Played by guest players across various arcs\n",
    "- **NPCs**: All other characters (typically controlled by the Dungeon Master)\n",
    "\n",
    "We will identify known guest characters and assign all remaining entries to \"NPC\".\n"
   ]
  },
  {
   "cell_type": "code",
   "execution_count": 40,
   "metadata": {},
   "outputs": [
    {
     "name": "stdout",
     "output_type": "stream",
     "text": [
      "['Beau', 'Caduceus', 'Caleb', 'Fjord', 'Guest', 'Jester', 'Molly', 'NPC', 'Veth', 'Yasha']\n"
     ]
    }
   ],
   "source": [
    "# Define known guest characters\n",
    "guest_names = [\n",
    "    \"Reani\", \"Twiggy\", \"Keg\", \"Cali\", \"Shakäste\", \"Nila\", \"Spurt\"\n",
    "]\n",
    "\n",
    "# Assign guests\n",
    "df[\"Character\"] = df[\"Character\"].replace({name: \"Guest\" for name in guest_names})\n",
    "\n",
    "# Everything else not in main cast or guests becomes NPC\n",
    "main_cast = [\n",
    "    \"Beau\", \"Fjord\", \"Jester\", \"Veth\", \"Caleb\", \"Yasha\", \"Caduceus\", \"Molly\", \"Kingsley\"\n",
    "]\n",
    "\n",
    "df[\"Character\"] = df[\"Character\"].apply(lambda x: \"NPC\" if x not in main_cast + [\"Guest\"] else x)\n",
    "\n",
    "# Preview updated unique characters\n",
    "print(sorted(df[\"Character\"].unique()))\n"
   ]
  },
  {
   "cell_type": "markdown",
   "metadata": {},
   "source": [
    "### Cleaning the \"Type of Roll\" Column\n",
    "\n",
    "The `Type of Roll` column contains text describing what kind of dice roll was made (e.g., Perception, Attack, Insight, etc.). However, these values may have inconsistent formatting or naming conventions, making analysis difficult.\n",
    "\n",
    "In this step, we will:\n",
    "- Remove leading/trailing whitespace\n",
    "- Standardise text casing\n",
    "- Optionally group or rename similar roll types to reduce redundancy\n"
   ]
  },
  {
   "cell_type": "code",
   "execution_count": 41,
   "metadata": {},
   "outputs": [
    {
     "name": "stdout",
     "output_type": "stream",
     "text": [
      "Top 20 Roll Types:\n",
      "Type of Roll\n",
      "Attack               2501\n",
      "Damage               2111\n",
      "Perception           1842\n",
      "Stealth              1112\n",
      "Initiative            853\n",
      "Investigation         768\n",
      "Spell Attack          710\n",
      "Constitution Save     625\n",
      "Wisdom Save           526\n",
      "Dexterity Save        378\n",
      "Persuasion            306\n",
      "Athletics             298\n",
      "Healing               288\n",
      "Other                 283\n",
      "Strength              275\n",
      "Insight               271\n",
      "Deception             227\n",
      "Acrobatics            201\n",
      "Intelligence          165\n",
      "History               137\n",
      "Name: count, dtype: int64\n"
     ]
    }
   ],
   "source": [
    "# Remove extra whitespace and capitalise consistently\n",
    "df[\"Type of Roll\"] = df[\"Type of Roll\"].str.strip().str.title()\n",
    "\n",
    "# Show the most common roll types to inspect\n",
    "roll_type_counts = df[\"Type of Roll\"].value_counts()\n",
    "print(\"Top 20 Roll Types:\")\n",
    "print(roll_type_counts.head(20))\n"
   ]
  },
  {
   "cell_type": "markdown",
   "metadata": {},
   "source": [
    "### Categorising Roll Types\n",
    "\n",
    "To simplify analysis, we will group similar roll types into broader categories such as:\n",
    "- **Skill Check** (e.g., Perception, Stealth, Insight)\n",
    "- **Attack** (e.g., Melee Attack, Ranged Attack)\n",
    "- **Saving Throw** (e.g., Dexterity Save, Wisdom Save)\n",
    "- **Spellcasting** (e.g., Spell Attack, Concentration Check)\n",
    "- **Other** (miscellaneous or custom rolls)\n",
    "\n",
    "This step allows us to analyse general player behaviour patterns without being overwhelmed by roll-specific noise.\n"
   ]
  },
  {
   "cell_type": "code",
   "execution_count": 42,
   "metadata": {},
   "outputs": [
    {
     "name": "stdout",
     "output_type": "stream",
     "text": [
      "Roll Category Distribution:\n",
      "Roll Category\n",
      "Skill Check     5754\n",
      "Other           4674\n",
      "Attack          3211\n",
      "Saving Throw    1687\n",
      "Spellcasting       2\n",
      "Name: count, dtype: int64\n"
     ]
    }
   ],
   "source": [
    "# Define keyword-based mappings to general categories\n",
    "def categorize_roll_type(roll):\n",
    "    if pd.isna(roll):\n",
    "        return \"Other\"\n",
    "    roll = roll.lower()\n",
    "    if any(skill in roll for skill in [\"check\", \"perception\", \"insight\", \"stealth\", \"investigation\", \"persuasion\", \"intimidation\", \"deception\", \"acrobatics\", \"athletics\", \"survival\", \"history\", \"nature\", \"arcana\", \"medicine\", \"religion\", \"animal handling\"]):\n",
    "        return \"Skill Check\"\n",
    "    elif \"attack\" in roll or \"strike\" in roll:\n",
    "        return \"Attack\"\n",
    "    elif \"save\" in roll or \"saving throw\" in roll:\n",
    "        return \"Saving Throw\"\n",
    "    elif \"spell\" in roll or \"concentration\" in roll:\n",
    "        return \"Spellcasting\"\n",
    "    else:\n",
    "        return \"Other\"\n",
    "\n",
    "# Apply the categorisation\n",
    "df[\"Roll Category\"] = df[\"Type of Roll\"].apply(categorize_roll_type)\n",
    "\n",
    "# Show counts of each category\n",
    "category_counts = df[\"Roll Category\"].value_counts()\n",
    "print(\"Roll Category Distribution:\")\n",
    "print(category_counts)\n"
   ]
  },
  {
   "cell_type": "code",
   "execution_count": 43,
   "metadata": {},
   "outputs": [
    {
     "data": {
      "text/html": [
       "<div>\n",
       "<style scoped>\n",
       "    .dataframe tbody tr th:only-of-type {\n",
       "        vertical-align: middle;\n",
       "    }\n",
       "\n",
       "    .dataframe tbody tr th {\n",
       "        vertical-align: top;\n",
       "    }\n",
       "\n",
       "    .dataframe thead th {\n",
       "        text-align: right;\n",
       "    }\n",
       "</style>\n",
       "<table border=\"1\" class=\"dataframe\">\n",
       "  <thead>\n",
       "    <tr style=\"text-align: right;\">\n",
       "      <th></th>\n",
       "      <th>Episode</th>\n",
       "      <th>Time</th>\n",
       "      <th>Character</th>\n",
       "      <th>Type of Roll</th>\n",
       "      <th>Total Value</th>\n",
       "      <th>Natural Value</th>\n",
       "      <th>Crit?</th>\n",
       "      <th>Damage Dealt</th>\n",
       "      <th># Kills</th>\n",
       "      <th>Notes</th>\n",
       "      <th>Episode_Num</th>\n",
       "      <th>Roll Category</th>\n",
       "    </tr>\n",
       "  </thead>\n",
       "  <tbody>\n",
       "    <tr>\n",
       "      <th>0</th>\n",
       "      <td>C2E001</td>\n",
       "      <td>0:35:40</td>\n",
       "      <td>Fjord</td>\n",
       "      <td>Perception</td>\n",
       "      <td>Nat20</td>\n",
       "      <td>20</td>\n",
       "      <td>NaN</td>\n",
       "      <td>NaN</td>\n",
       "      <td>NaN</td>\n",
       "      <td>NaN</td>\n",
       "      <td>1</td>\n",
       "      <td>Skill Check</td>\n",
       "    </tr>\n",
       "    <tr>\n",
       "      <th>1</th>\n",
       "      <td>C2E001</td>\n",
       "      <td>0:39:22</td>\n",
       "      <td>Jester</td>\n",
       "      <td>Perception</td>\n",
       "      <td>22</td>\n",
       "      <td>19</td>\n",
       "      <td>NaN</td>\n",
       "      <td>NaN</td>\n",
       "      <td>NaN</td>\n",
       "      <td>NaN</td>\n",
       "      <td>1</td>\n",
       "      <td>Skill Check</td>\n",
       "    </tr>\n",
       "    <tr>\n",
       "      <th>2</th>\n",
       "      <td>C2E001</td>\n",
       "      <td>0:39:30</td>\n",
       "      <td>Beau</td>\n",
       "      <td>Perception</td>\n",
       "      <td>19</td>\n",
       "      <td>16</td>\n",
       "      <td>NaN</td>\n",
       "      <td>NaN</td>\n",
       "      <td>NaN</td>\n",
       "      <td>NaN</td>\n",
       "      <td>1</td>\n",
       "      <td>Skill Check</td>\n",
       "    </tr>\n",
       "    <tr>\n",
       "      <th>3</th>\n",
       "      <td>C2E001</td>\n",
       "      <td>0:43:04</td>\n",
       "      <td>Beau</td>\n",
       "      <td>Insight</td>\n",
       "      <td>13</td>\n",
       "      <td>8</td>\n",
       "      <td>NaN</td>\n",
       "      <td>NaN</td>\n",
       "      <td>NaN</td>\n",
       "      <td>NaN</td>\n",
       "      <td>1</td>\n",
       "      <td>Skill Check</td>\n",
       "    </tr>\n",
       "    <tr>\n",
       "      <th>4</th>\n",
       "      <td>C2E001</td>\n",
       "      <td>0:50:37</td>\n",
       "      <td>Molly</td>\n",
       "      <td>Insight</td>\n",
       "      <td>16</td>\n",
       "      <td>11</td>\n",
       "      <td>NaN</td>\n",
       "      <td>NaN</td>\n",
       "      <td>NaN</td>\n",
       "      <td>NaN</td>\n",
       "      <td>1</td>\n",
       "      <td>Skill Check</td>\n",
       "    </tr>\n",
       "  </tbody>\n",
       "</table>\n",
       "</div>"
      ],
      "text/plain": [
       "  Episode     Time Character Type of Roll Total Value Natural Value Crit?  \\\n",
       "0  C2E001  0:35:40     Fjord   Perception       Nat20            20   NaN   \n",
       "1  C2E001  0:39:22    Jester   Perception          22            19   NaN   \n",
       "2  C2E001  0:39:30      Beau   Perception          19            16   NaN   \n",
       "3  C2E001  0:43:04      Beau      Insight          13             8   NaN   \n",
       "4  C2E001  0:50:37     Molly      Insight          16            11   NaN   \n",
       "\n",
       "  Damage Dealt # Kills Notes  Episode_Num Roll Category  \n",
       "0          NaN     NaN   NaN            1   Skill Check  \n",
       "1          NaN     NaN   NaN            1   Skill Check  \n",
       "2          NaN     NaN   NaN            1   Skill Check  \n",
       "3          NaN     NaN   NaN            1   Skill Check  \n",
       "4          NaN     NaN   NaN            1   Skill Check  "
      ]
     },
     "execution_count": 43,
     "metadata": {},
     "output_type": "execute_result"
    }
   ],
   "source": [
    "df.head()"
   ]
  },
  {
   "cell_type": "markdown",
   "metadata": {},
   "source": [
    "### Cleaning Roll Values\n",
    "\n",
    "The columns `Total Value` and `Natural Value` represent the results of each dice roll. However, both columns are currently stored as text (strings), which prevents us from performing numerical analysis.\n",
    "\n",
    "In this step, we will:\n",
    "- Convert both columns to numeric data types\n",
    "- Handle any non-numeric values\n",
    "- Check for any remaining missing or invalid entries\n"
   ]
  },
  {
   "cell_type": "code",
   "execution_count": 44,
   "metadata": {},
   "outputs": [
    {
     "name": "stdout",
     "output_type": "stream",
     "text": [
      "Missing or invalid 'Total Value' entries: 3113\n",
      "Missing or invalid 'Natural Value' entries: 5043\n"
     ]
    }
   ],
   "source": [
    "# Convert 'Total Value' and 'Natural Value' to numeric\n",
    "# Errors will be turned into NaNs (e.g., empty cells or malformed entries)\n",
    "\n",
    "df[\"Total Value\"] = pd.to_numeric(df[\"Total Value\"], errors=\"coerce\") #  tries to convert to number. If it fails, it replaces with NaN instead of crashing.\n",
    "df[\"Natural Value\"] = pd.to_numeric(df[\"Natural Value\"], errors=\"coerce\")\n",
    "\n",
    "# Check how many values were converted to NaN (missing or invalid)\n",
    "missing_total = df[\"Total Value\"].isna().sum()\n",
    "missing_natural = df[\"Natural Value\"].isna().sum()\n",
    "\n",
    "# Turn to integer\n",
    "df[\"Total Value\"] = df[\"Total Value\"].astype(\"Int64\")\n",
    "df[\"Natural Value\"] = df[\"Natural Value\"].astype(\"Int64\")\n",
    "\n",
    "print(f\"Missing or invalid 'Total Value' entries: {missing_total}\")\n",
    "print(f\"Missing or invalid 'Natural Value' entries: {missing_natural}\")\n"
   ]
  },
  {
   "cell_type": "markdown",
   "metadata": {},
   "source": [
    "**Note on Missing Values**\n",
    "\n",
    "Since this dataset was compiled from a live-streamed roleplaying game, some dice rolls were not verbally stated by the players or were obscured by overlapping dialogue or other event. As a result, several entries in the `Natural Value` and `Total Value` columns are missing or incomplete. This is expected in a community-compiled datasets and should be taken into account during analysis.\n"
   ]
  },
  {
   "cell_type": "markdown",
   "metadata": {},
   "source": [
    "### Identifying Natural 1s and Natural 20s\n",
    "\n",
    "In Dungeons & Dragons, a \"natural 1\" (rolling a 1 on a 20-sided die) is typically a critical failure, while a \"natural 20\" is a critical success. These extreme rolls are often the most memorable and impactful moments in the game.\n",
    "\n",
    "To highlight these moments, we will:\n",
    "- Create a new column `Is_Nat1` that flags natural 1s\n",
    "- Create a new column `Is_Nat20` that flags natural 20s\n",
    "- These will be useful for visualisations and luck-based metrics\n"
   ]
  },
  {
   "cell_type": "code",
   "execution_count": 45,
   "metadata": {},
   "outputs": [
    {
     "name": "stdout",
     "output_type": "stream",
     "text": [
      "Total Natural 1s: 532\n",
      "Total Natural 20s: 647\n"
     ]
    }
   ],
   "source": [
    "# Create boolean columns for natural 1s and natural 20s\n",
    "df[\"Is_Nat1\"] = df[\"Natural Value\"] == 1\n",
    "df[\"Is_Nat20\"] = df[\"Natural Value\"] == 20\n",
    "\n",
    "# Quick summary to see how many of each\n",
    "nat1_count = df[\"Is_Nat1\"].sum()\n",
    "nat20_count = df[\"Is_Nat20\"].sum()\n",
    "\n",
    "print(f\"Total Natural 1s: {nat1_count}\")\n",
    "print(f\"Total Natural 20s: {nat20_count}\")\n"
   ]
  },
  {
   "cell_type": "code",
   "execution_count": 46,
   "metadata": {},
   "outputs": [
    {
     "data": {
      "text/html": [
       "<div>\n",
       "<style scoped>\n",
       "    .dataframe tbody tr th:only-of-type {\n",
       "        vertical-align: middle;\n",
       "    }\n",
       "\n",
       "    .dataframe tbody tr th {\n",
       "        vertical-align: top;\n",
       "    }\n",
       "\n",
       "    .dataframe thead th {\n",
       "        text-align: right;\n",
       "    }\n",
       "</style>\n",
       "<table border=\"1\" class=\"dataframe\">\n",
       "  <thead>\n",
       "    <tr style=\"text-align: right;\">\n",
       "      <th></th>\n",
       "      <th>Episode</th>\n",
       "      <th>Time</th>\n",
       "      <th>Character</th>\n",
       "      <th>Type of Roll</th>\n",
       "      <th>Total Value</th>\n",
       "      <th>Natural Value</th>\n",
       "      <th>Crit?</th>\n",
       "      <th>Damage Dealt</th>\n",
       "      <th># Kills</th>\n",
       "      <th>Notes</th>\n",
       "      <th>Episode_Num</th>\n",
       "      <th>Roll Category</th>\n",
       "      <th>Is_Nat1</th>\n",
       "      <th>Is_Nat20</th>\n",
       "    </tr>\n",
       "  </thead>\n",
       "  <tbody>\n",
       "    <tr>\n",
       "      <th>0</th>\n",
       "      <td>C2E001</td>\n",
       "      <td>0:35:40</td>\n",
       "      <td>Fjord</td>\n",
       "      <td>Perception</td>\n",
       "      <td>&lt;NA&gt;</td>\n",
       "      <td>20</td>\n",
       "      <td>NaN</td>\n",
       "      <td>NaN</td>\n",
       "      <td>NaN</td>\n",
       "      <td>NaN</td>\n",
       "      <td>1</td>\n",
       "      <td>Skill Check</td>\n",
       "      <td>False</td>\n",
       "      <td>True</td>\n",
       "    </tr>\n",
       "    <tr>\n",
       "      <th>1</th>\n",
       "      <td>C2E001</td>\n",
       "      <td>0:39:22</td>\n",
       "      <td>Jester</td>\n",
       "      <td>Perception</td>\n",
       "      <td>22</td>\n",
       "      <td>19</td>\n",
       "      <td>NaN</td>\n",
       "      <td>NaN</td>\n",
       "      <td>NaN</td>\n",
       "      <td>NaN</td>\n",
       "      <td>1</td>\n",
       "      <td>Skill Check</td>\n",
       "      <td>False</td>\n",
       "      <td>False</td>\n",
       "    </tr>\n",
       "    <tr>\n",
       "      <th>2</th>\n",
       "      <td>C2E001</td>\n",
       "      <td>0:39:30</td>\n",
       "      <td>Beau</td>\n",
       "      <td>Perception</td>\n",
       "      <td>19</td>\n",
       "      <td>16</td>\n",
       "      <td>NaN</td>\n",
       "      <td>NaN</td>\n",
       "      <td>NaN</td>\n",
       "      <td>NaN</td>\n",
       "      <td>1</td>\n",
       "      <td>Skill Check</td>\n",
       "      <td>False</td>\n",
       "      <td>False</td>\n",
       "    </tr>\n",
       "    <tr>\n",
       "      <th>3</th>\n",
       "      <td>C2E001</td>\n",
       "      <td>0:43:04</td>\n",
       "      <td>Beau</td>\n",
       "      <td>Insight</td>\n",
       "      <td>13</td>\n",
       "      <td>8</td>\n",
       "      <td>NaN</td>\n",
       "      <td>NaN</td>\n",
       "      <td>NaN</td>\n",
       "      <td>NaN</td>\n",
       "      <td>1</td>\n",
       "      <td>Skill Check</td>\n",
       "      <td>False</td>\n",
       "      <td>False</td>\n",
       "    </tr>\n",
       "    <tr>\n",
       "      <th>4</th>\n",
       "      <td>C2E001</td>\n",
       "      <td>0:50:37</td>\n",
       "      <td>Molly</td>\n",
       "      <td>Insight</td>\n",
       "      <td>16</td>\n",
       "      <td>11</td>\n",
       "      <td>NaN</td>\n",
       "      <td>NaN</td>\n",
       "      <td>NaN</td>\n",
       "      <td>NaN</td>\n",
       "      <td>1</td>\n",
       "      <td>Skill Check</td>\n",
       "      <td>False</td>\n",
       "      <td>False</td>\n",
       "    </tr>\n",
       "  </tbody>\n",
       "</table>\n",
       "</div>"
      ],
      "text/plain": [
       "  Episode     Time Character Type of Roll  Total Value  Natural Value Crit?  \\\n",
       "0  C2E001  0:35:40     Fjord   Perception         <NA>             20   NaN   \n",
       "1  C2E001  0:39:22    Jester   Perception           22             19   NaN   \n",
       "2  C2E001  0:39:30      Beau   Perception           19             16   NaN   \n",
       "3  C2E001  0:43:04      Beau      Insight           13              8   NaN   \n",
       "4  C2E001  0:50:37     Molly      Insight           16             11   NaN   \n",
       "\n",
       "  Damage Dealt # Kills Notes  Episode_Num Roll Category  Is_Nat1  Is_Nat20  \n",
       "0          NaN     NaN   NaN            1   Skill Check    False      True  \n",
       "1          NaN     NaN   NaN            1   Skill Check    False     False  \n",
       "2          NaN     NaN   NaN            1   Skill Check    False     False  \n",
       "3          NaN     NaN   NaN            1   Skill Check    False     False  \n",
       "4          NaN     NaN   NaN            1   Skill Check    False     False  "
      ]
     },
     "execution_count": 46,
     "metadata": {},
     "output_type": "execute_result"
    }
   ],
   "source": [
    "df.head()"
   ]
  },
  {
   "cell_type": "markdown",
   "metadata": {},
   "source": [
    "### Dropping the \"Crit?\" Column\n",
    "\n",
    "The `Crit?` column has very limited data and overlaps with information already present in the `Natural Value` column. Since it only contains a handful of entries, we will drop it to clean up the dataset and avoid redundancy.\n"
   ]
  },
  {
   "cell_type": "code",
   "execution_count": 47,
   "metadata": {},
   "outputs": [
    {
     "name": "stdout",
     "output_type": "stream",
     "text": [
      "Remaining columns: ['Episode', 'Time', 'Character', 'Type of Roll', 'Total Value', 'Natural Value', 'Damage Dealt', '# Kills', 'Notes', 'Episode_Num', 'Roll Category', 'Is_Nat1', 'Is_Nat20']\n"
     ]
    }
   ],
   "source": [
    "# Drop the \"Crit?\" column\n",
    "df.drop(columns=[\"Crit?\"], inplace=True)\n",
    "\n",
    "# Confirm it's gone\n",
    "print(\"Remaining columns:\", df.columns.tolist())"
   ]
  },
  {
   "cell_type": "markdown",
   "metadata": {},
   "source": [
    "### Extracting Numeric Values from \"# Kills\"\n",
    "\n",
    "The `# Kills` column contains information about the number of kills associated with a roll, but the values are inconsistently formatted. To use this data in analysis, we will:\n",
    "- Extract numeric digits from the column\n",
    "- Convert the result to integers\n",
    "- Replace missing values with 0\n"
   ]
  },
  {
   "cell_type": "code",
   "execution_count": 48,
   "metadata": {},
   "outputs": [
    {
     "name": "stdout",
     "output_type": "stream",
     "text": [
      "Kills\n",
      "0    15003\n",
      "1      309\n",
      "2       11\n",
      "3        2\n",
      "4        2\n",
      "6        1\n",
      "Name: count, dtype: int64\n"
     ]
    }
   ],
   "source": [
    "# Use regex to extract digits from the '# Kills' column\n",
    "df[\"Kills\"] = df[\"# Kills\"].str.extract(r\"(\\d+)\", expand=False)\n",
    "df[\"Kills\"] = pd.to_numeric(df[\"Kills\"], errors=\"coerce\").fillna(0).astype(int)\n",
    "\n",
    "# Drop the original messy column\n",
    "df.drop(columns=[\"# Kills\"], inplace=True)\n",
    "\n",
    "# Quick check\n",
    "print(df[\"Kills\"].value_counts().sort_index())"
   ]
  },
  {
   "cell_type": "markdown",
   "metadata": {},
   "source": [
    "### Cleaning the \"Damage Dealt\" Column\n",
    "\n",
    "The `Damage Dealt` column contains numerical and text-based entries describing the amount of damage a character dealt during combat. For analysis, we will:\n",
    "- Extract the first numeric value from the string (ignoring text and extra values)\n",
    "- Convert it to a int\n",
    "- Replace missing or invalid entries with 0\n"
   ]
  },
  {
   "cell_type": "code",
   "execution_count": 49,
   "metadata": {},
   "outputs": [
    {
     "name": "stdout",
     "output_type": "stream",
     "text": [
      "count    15328.000000\n",
      "mean         2.483364\n",
      "std          7.436470\n",
      "min          0.000000\n",
      "25%          0.000000\n",
      "50%          0.000000\n",
      "75%          0.000000\n",
      "max        172.000000\n",
      "Name: Damage, dtype: float64\n"
     ]
    }
   ],
   "source": [
    "# Extract the first number from the 'Damage Dealt' column using regex\n",
    "df[\"Damage\"] = df[\"Damage Dealt\"].str.extract(r\"(\\d+)\", expand=False)\n",
    "df[\"Damage\"] = pd.to_numeric(df[\"Damage\"], errors=\"coerce\").fillna(0).astype(int)\n",
    "\n",
    "# Drop the original messy column\n",
    "df.drop(columns=[\"Damage Dealt\"], inplace=True)\n",
    "\n",
    "# Quick check: summary stats\n",
    "print(df[\"Damage\"].describe())\n"
   ]
  },
  {
   "cell_type": "markdown",
   "metadata": {},
   "source": [
    "### Reordering Columns for Clarity\n",
    "\n",
    "To improve readability and usability, we will reorder the columns in a logical sequence:\n",
    "- Episode information\n",
    "- Character and roll details\n",
    "- Dice outcomes\n",
    "- Consequences of the roll\n",
    "- Notes for additional context\n"
   ]
  },
  {
   "cell_type": "code",
   "execution_count": 50,
   "metadata": {},
   "outputs": [
    {
     "data": {
      "text/html": [
       "<div>\n",
       "<style scoped>\n",
       "    .dataframe tbody tr th:only-of-type {\n",
       "        vertical-align: middle;\n",
       "    }\n",
       "\n",
       "    .dataframe tbody tr th {\n",
       "        vertical-align: top;\n",
       "    }\n",
       "\n",
       "    .dataframe thead th {\n",
       "        text-align: right;\n",
       "    }\n",
       "</style>\n",
       "<table border=\"1\" class=\"dataframe\">\n",
       "  <thead>\n",
       "    <tr style=\"text-align: right;\">\n",
       "      <th></th>\n",
       "      <th>Episode</th>\n",
       "      <th>Episode_Num</th>\n",
       "      <th>Time</th>\n",
       "      <th>Character</th>\n",
       "      <th>Type of Roll</th>\n",
       "      <th>Roll Category</th>\n",
       "      <th>Natural Value</th>\n",
       "      <th>Total Value</th>\n",
       "      <th>Is_Nat1</th>\n",
       "      <th>Is_Nat20</th>\n",
       "      <th>Damage</th>\n",
       "      <th>Kills</th>\n",
       "      <th>Notes</th>\n",
       "    </tr>\n",
       "  </thead>\n",
       "  <tbody>\n",
       "    <tr>\n",
       "      <th>0</th>\n",
       "      <td>C2E001</td>\n",
       "      <td>1</td>\n",
       "      <td>0:35:40</td>\n",
       "      <td>Fjord</td>\n",
       "      <td>Perception</td>\n",
       "      <td>Skill Check</td>\n",
       "      <td>20</td>\n",
       "      <td>&lt;NA&gt;</td>\n",
       "      <td>False</td>\n",
       "      <td>True</td>\n",
       "      <td>0</td>\n",
       "      <td>0</td>\n",
       "      <td>NaN</td>\n",
       "    </tr>\n",
       "    <tr>\n",
       "      <th>1</th>\n",
       "      <td>C2E001</td>\n",
       "      <td>1</td>\n",
       "      <td>0:39:22</td>\n",
       "      <td>Jester</td>\n",
       "      <td>Perception</td>\n",
       "      <td>Skill Check</td>\n",
       "      <td>19</td>\n",
       "      <td>22</td>\n",
       "      <td>False</td>\n",
       "      <td>False</td>\n",
       "      <td>0</td>\n",
       "      <td>0</td>\n",
       "      <td>NaN</td>\n",
       "    </tr>\n",
       "    <tr>\n",
       "      <th>2</th>\n",
       "      <td>C2E001</td>\n",
       "      <td>1</td>\n",
       "      <td>0:39:30</td>\n",
       "      <td>Beau</td>\n",
       "      <td>Perception</td>\n",
       "      <td>Skill Check</td>\n",
       "      <td>16</td>\n",
       "      <td>19</td>\n",
       "      <td>False</td>\n",
       "      <td>False</td>\n",
       "      <td>0</td>\n",
       "      <td>0</td>\n",
       "      <td>NaN</td>\n",
       "    </tr>\n",
       "    <tr>\n",
       "      <th>3</th>\n",
       "      <td>C2E001</td>\n",
       "      <td>1</td>\n",
       "      <td>0:43:04</td>\n",
       "      <td>Beau</td>\n",
       "      <td>Insight</td>\n",
       "      <td>Skill Check</td>\n",
       "      <td>8</td>\n",
       "      <td>13</td>\n",
       "      <td>False</td>\n",
       "      <td>False</td>\n",
       "      <td>0</td>\n",
       "      <td>0</td>\n",
       "      <td>NaN</td>\n",
       "    </tr>\n",
       "    <tr>\n",
       "      <th>4</th>\n",
       "      <td>C2E001</td>\n",
       "      <td>1</td>\n",
       "      <td>0:50:37</td>\n",
       "      <td>Molly</td>\n",
       "      <td>Insight</td>\n",
       "      <td>Skill Check</td>\n",
       "      <td>11</td>\n",
       "      <td>16</td>\n",
       "      <td>False</td>\n",
       "      <td>False</td>\n",
       "      <td>0</td>\n",
       "      <td>0</td>\n",
       "      <td>NaN</td>\n",
       "    </tr>\n",
       "  </tbody>\n",
       "</table>\n",
       "</div>"
      ],
      "text/plain": [
       "  Episode  Episode_Num     Time Character Type of Roll Roll Category  \\\n",
       "0  C2E001            1  0:35:40     Fjord   Perception   Skill Check   \n",
       "1  C2E001            1  0:39:22    Jester   Perception   Skill Check   \n",
       "2  C2E001            1  0:39:30      Beau   Perception   Skill Check   \n",
       "3  C2E001            1  0:43:04      Beau      Insight   Skill Check   \n",
       "4  C2E001            1  0:50:37     Molly      Insight   Skill Check   \n",
       "\n",
       "   Natural Value  Total Value  Is_Nat1  Is_Nat20  Damage  Kills Notes  \n",
       "0             20         <NA>    False      True       0      0   NaN  \n",
       "1             19           22    False     False       0      0   NaN  \n",
       "2             16           19    False     False       0      0   NaN  \n",
       "3              8           13    False     False       0      0   NaN  \n",
       "4             11           16    False     False       0      0   NaN  "
      ]
     },
     "execution_count": 50,
     "metadata": {},
     "output_type": "execute_result"
    }
   ],
   "source": [
    "# Define preferred column order\n",
    "column_order = [\n",
    "    \"Episode\", \"Episode_Num\", \"Time\",\n",
    "    \"Character\", \"Type of Roll\", \"Roll Category\",\n",
    "    \"Natural Value\", \"Total Value\", \"Is_Nat1\", \"Is_Nat20\",\n",
    "    \"Damage\", \"Kills\",\n",
    "    \"Notes\"\n",
    "]\n",
    "\n",
    "# Reorder the DataFrame\n",
    "df = df[column_order]\n",
    "\n",
    "# Quick preview\n",
    "df.head()\n"
   ]
  },
  {
   "cell_type": "markdown",
   "metadata": {},
   "source": [
    "### Exporting the Cleaned Dataset\n",
    "\n",
    "Now that the data is cleaned and structured, we will export it to a CSV file. This version will be used later to build the interactive dashboard in Streamlit.\n"
   ]
  },
  {
   "cell_type": "code",
   "execution_count": 59,
   "metadata": {},
   "outputs": [
    {
     "name": "stdout",
     "output_type": "stream",
     "text": [
      "Cleaned data exported as: critrole_c2_cleaned.csv\n"
     ]
    }
   ],
   "source": [
    "# Export the cleaned dataframe to a CSV file\n",
    "cleaned_file_path = \"critrole_c2_cleaned.csv\"\n",
    "df.to_csv(cleaned_file_path, index=False)\n",
    "\n",
    "print(f\"Cleaned data exported as: {cleaned_file_path}\")\n"
   ]
  },
  {
   "cell_type": "markdown",
   "metadata": {},
   "source": [
    "***\n",
    "## Visualizations"
   ]
  },
  {
   "cell_type": "markdown",
   "metadata": {},
   "source": [
    "### Total Rolls by Character\n",
    "\n",
    "To begin our analysis, we examine how many dice rolls each character made during Campaign 2. This basic frequency count helps us understand overall player activity, spotlighting which characters were most involved in combat, skill checks, or magical chaos.\n"
   ]
  },
  {
   "cell_type": "code",
   "execution_count": 52,
   "metadata": {},
   "outputs": [
    {
     "data": {
      "application/vnd.plotly.v1+json": {
       "config": {
        "plotlyServerURL": "https://plot.ly"
       },
       "data": [
        {
         "hovertemplate": "Total Rolls=%{marker.color}<br>Character=%{y}<extra></extra>",
         "legendgroup": "",
         "marker": {
          "color": {
           "bdata": "DgFSAb8BLQVJBsgGAghJCEgJ8As=",
           "dtype": "i2"
          },
          "coloraxis": "coloraxis",
          "pattern": {
           "shape": ""
          }
         },
         "name": "",
         "orientation": "h",
         "showlegend": false,
         "text": {
          "bdata": "AAAAAADgcEAAAAAAACB1QAAAAAAA8HtAAAAAAAC0lEAAAAAAACSZQAAAAAAAIJtAAAAAAAAEoEAAAAAAAJKgQAAAAAAAkKJAAAAAAADgp0A=",
          "dtype": "f8"
         },
         "textposition": "outside",
         "type": "bar",
         "x": {
          "bdata": "DgFSAb8BLQVJBsgGAghJCEgJ8As=",
          "dtype": "i2"
         },
         "xaxis": "x",
         "y": [
          "NPC",
          "Guest",
          "Molly",
          "Caduceus",
          "Yasha",
          "Caleb",
          "Jester",
          "Fjord",
          "Veth",
          "Beau"
         ],
         "yaxis": "y"
        }
       ],
       "layout": {
        "barmode": "relative",
        "coloraxis": {
         "colorbar": {
          "title": {
           "text": "Total Rolls"
          }
         },
         "colorscale": [
          [
           0,
           "#000004"
          ],
          [
           0.1111111111111111,
           "#180f3d"
          ],
          [
           0.2222222222222222,
           "#440f76"
          ],
          [
           0.3333333333333333,
           "#721f81"
          ],
          [
           0.4444444444444444,
           "#9e2f7f"
          ],
          [
           0.5555555555555556,
           "#cd4071"
          ],
          [
           0.6666666666666666,
           "#f1605d"
          ],
          [
           0.7777777777777778,
           "#fd9668"
          ],
          [
           0.8888888888888888,
           "#feca8d"
          ],
          [
           1,
           "#fcfdbf"
          ]
         ]
        },
        "height": 500,
        "legend": {
         "tracegroupgap": 0
        },
        "plot_bgcolor": "#fdf6f0",
        "template": {
         "data": {
          "bar": [
           {
            "error_x": {
             "color": "#2a3f5f"
            },
            "error_y": {
             "color": "#2a3f5f"
            },
            "marker": {
             "line": {
              "color": "#E5ECF6",
              "width": 0.5
             },
             "pattern": {
              "fillmode": "overlay",
              "size": 10,
              "solidity": 0.2
             }
            },
            "type": "bar"
           }
          ],
          "barpolar": [
           {
            "marker": {
             "line": {
              "color": "#E5ECF6",
              "width": 0.5
             },
             "pattern": {
              "fillmode": "overlay",
              "size": 10,
              "solidity": 0.2
             }
            },
            "type": "barpolar"
           }
          ],
          "carpet": [
           {
            "aaxis": {
             "endlinecolor": "#2a3f5f",
             "gridcolor": "white",
             "linecolor": "white",
             "minorgridcolor": "white",
             "startlinecolor": "#2a3f5f"
            },
            "baxis": {
             "endlinecolor": "#2a3f5f",
             "gridcolor": "white",
             "linecolor": "white",
             "minorgridcolor": "white",
             "startlinecolor": "#2a3f5f"
            },
            "type": "carpet"
           }
          ],
          "choropleth": [
           {
            "colorbar": {
             "outlinewidth": 0,
             "ticks": ""
            },
            "type": "choropleth"
           }
          ],
          "contour": [
           {
            "colorbar": {
             "outlinewidth": 0,
             "ticks": ""
            },
            "colorscale": [
             [
              0,
              "#0d0887"
             ],
             [
              0.1111111111111111,
              "#46039f"
             ],
             [
              0.2222222222222222,
              "#7201a8"
             ],
             [
              0.3333333333333333,
              "#9c179e"
             ],
             [
              0.4444444444444444,
              "#bd3786"
             ],
             [
              0.5555555555555556,
              "#d8576b"
             ],
             [
              0.6666666666666666,
              "#ed7953"
             ],
             [
              0.7777777777777778,
              "#fb9f3a"
             ],
             [
              0.8888888888888888,
              "#fdca26"
             ],
             [
              1,
              "#f0f921"
             ]
            ],
            "type": "contour"
           }
          ],
          "contourcarpet": [
           {
            "colorbar": {
             "outlinewidth": 0,
             "ticks": ""
            },
            "type": "contourcarpet"
           }
          ],
          "heatmap": [
           {
            "colorbar": {
             "outlinewidth": 0,
             "ticks": ""
            },
            "colorscale": [
             [
              0,
              "#0d0887"
             ],
             [
              0.1111111111111111,
              "#46039f"
             ],
             [
              0.2222222222222222,
              "#7201a8"
             ],
             [
              0.3333333333333333,
              "#9c179e"
             ],
             [
              0.4444444444444444,
              "#bd3786"
             ],
             [
              0.5555555555555556,
              "#d8576b"
             ],
             [
              0.6666666666666666,
              "#ed7953"
             ],
             [
              0.7777777777777778,
              "#fb9f3a"
             ],
             [
              0.8888888888888888,
              "#fdca26"
             ],
             [
              1,
              "#f0f921"
             ]
            ],
            "type": "heatmap"
           }
          ],
          "histogram": [
           {
            "marker": {
             "pattern": {
              "fillmode": "overlay",
              "size": 10,
              "solidity": 0.2
             }
            },
            "type": "histogram"
           }
          ],
          "histogram2d": [
           {
            "colorbar": {
             "outlinewidth": 0,
             "ticks": ""
            },
            "colorscale": [
             [
              0,
              "#0d0887"
             ],
             [
              0.1111111111111111,
              "#46039f"
             ],
             [
              0.2222222222222222,
              "#7201a8"
             ],
             [
              0.3333333333333333,
              "#9c179e"
             ],
             [
              0.4444444444444444,
              "#bd3786"
             ],
             [
              0.5555555555555556,
              "#d8576b"
             ],
             [
              0.6666666666666666,
              "#ed7953"
             ],
             [
              0.7777777777777778,
              "#fb9f3a"
             ],
             [
              0.8888888888888888,
              "#fdca26"
             ],
             [
              1,
              "#f0f921"
             ]
            ],
            "type": "histogram2d"
           }
          ],
          "histogram2dcontour": [
           {
            "colorbar": {
             "outlinewidth": 0,
             "ticks": ""
            },
            "colorscale": [
             [
              0,
              "#0d0887"
             ],
             [
              0.1111111111111111,
              "#46039f"
             ],
             [
              0.2222222222222222,
              "#7201a8"
             ],
             [
              0.3333333333333333,
              "#9c179e"
             ],
             [
              0.4444444444444444,
              "#bd3786"
             ],
             [
              0.5555555555555556,
              "#d8576b"
             ],
             [
              0.6666666666666666,
              "#ed7953"
             ],
             [
              0.7777777777777778,
              "#fb9f3a"
             ],
             [
              0.8888888888888888,
              "#fdca26"
             ],
             [
              1,
              "#f0f921"
             ]
            ],
            "type": "histogram2dcontour"
           }
          ],
          "mesh3d": [
           {
            "colorbar": {
             "outlinewidth": 0,
             "ticks": ""
            },
            "type": "mesh3d"
           }
          ],
          "parcoords": [
           {
            "line": {
             "colorbar": {
              "outlinewidth": 0,
              "ticks": ""
             }
            },
            "type": "parcoords"
           }
          ],
          "pie": [
           {
            "automargin": true,
            "type": "pie"
           }
          ],
          "scatter": [
           {
            "fillpattern": {
             "fillmode": "overlay",
             "size": 10,
             "solidity": 0.2
            },
            "type": "scatter"
           }
          ],
          "scatter3d": [
           {
            "line": {
             "colorbar": {
              "outlinewidth": 0,
              "ticks": ""
             }
            },
            "marker": {
             "colorbar": {
              "outlinewidth": 0,
              "ticks": ""
             }
            },
            "type": "scatter3d"
           }
          ],
          "scattercarpet": [
           {
            "marker": {
             "colorbar": {
              "outlinewidth": 0,
              "ticks": ""
             }
            },
            "type": "scattercarpet"
           }
          ],
          "scattergeo": [
           {
            "marker": {
             "colorbar": {
              "outlinewidth": 0,
              "ticks": ""
             }
            },
            "type": "scattergeo"
           }
          ],
          "scattergl": [
           {
            "marker": {
             "colorbar": {
              "outlinewidth": 0,
              "ticks": ""
             }
            },
            "type": "scattergl"
           }
          ],
          "scattermap": [
           {
            "marker": {
             "colorbar": {
              "outlinewidth": 0,
              "ticks": ""
             }
            },
            "type": "scattermap"
           }
          ],
          "scattermapbox": [
           {
            "marker": {
             "colorbar": {
              "outlinewidth": 0,
              "ticks": ""
             }
            },
            "type": "scattermapbox"
           }
          ],
          "scatterpolar": [
           {
            "marker": {
             "colorbar": {
              "outlinewidth": 0,
              "ticks": ""
             }
            },
            "type": "scatterpolar"
           }
          ],
          "scatterpolargl": [
           {
            "marker": {
             "colorbar": {
              "outlinewidth": 0,
              "ticks": ""
             }
            },
            "type": "scatterpolargl"
           }
          ],
          "scatterternary": [
           {
            "marker": {
             "colorbar": {
              "outlinewidth": 0,
              "ticks": ""
             }
            },
            "type": "scatterternary"
           }
          ],
          "surface": [
           {
            "colorbar": {
             "outlinewidth": 0,
             "ticks": ""
            },
            "colorscale": [
             [
              0,
              "#0d0887"
             ],
             [
              0.1111111111111111,
              "#46039f"
             ],
             [
              0.2222222222222222,
              "#7201a8"
             ],
             [
              0.3333333333333333,
              "#9c179e"
             ],
             [
              0.4444444444444444,
              "#bd3786"
             ],
             [
              0.5555555555555556,
              "#d8576b"
             ],
             [
              0.6666666666666666,
              "#ed7953"
             ],
             [
              0.7777777777777778,
              "#fb9f3a"
             ],
             [
              0.8888888888888888,
              "#fdca26"
             ],
             [
              1,
              "#f0f921"
             ]
            ],
            "type": "surface"
           }
          ],
          "table": [
           {
            "cells": {
             "fill": {
              "color": "#EBF0F8"
             },
             "line": {
              "color": "white"
             }
            },
            "header": {
             "fill": {
              "color": "#C8D4E3"
             },
             "line": {
              "color": "white"
             }
            },
            "type": "table"
           }
          ]
         },
         "layout": {
          "annotationdefaults": {
           "arrowcolor": "#2a3f5f",
           "arrowhead": 0,
           "arrowwidth": 1
          },
          "autotypenumbers": "strict",
          "coloraxis": {
           "colorbar": {
            "outlinewidth": 0,
            "ticks": ""
           }
          },
          "colorscale": {
           "diverging": [
            [
             0,
             "#8e0152"
            ],
            [
             0.1,
             "#c51b7d"
            ],
            [
             0.2,
             "#de77ae"
            ],
            [
             0.3,
             "#f1b6da"
            ],
            [
             0.4,
             "#fde0ef"
            ],
            [
             0.5,
             "#f7f7f7"
            ],
            [
             0.6,
             "#e6f5d0"
            ],
            [
             0.7,
             "#b8e186"
            ],
            [
             0.8,
             "#7fbc41"
            ],
            [
             0.9,
             "#4d9221"
            ],
            [
             1,
             "#276419"
            ]
           ],
           "sequential": [
            [
             0,
             "#0d0887"
            ],
            [
             0.1111111111111111,
             "#46039f"
            ],
            [
             0.2222222222222222,
             "#7201a8"
            ],
            [
             0.3333333333333333,
             "#9c179e"
            ],
            [
             0.4444444444444444,
             "#bd3786"
            ],
            [
             0.5555555555555556,
             "#d8576b"
            ],
            [
             0.6666666666666666,
             "#ed7953"
            ],
            [
             0.7777777777777778,
             "#fb9f3a"
            ],
            [
             0.8888888888888888,
             "#fdca26"
            ],
            [
             1,
             "#f0f921"
            ]
           ],
           "sequentialminus": [
            [
             0,
             "#0d0887"
            ],
            [
             0.1111111111111111,
             "#46039f"
            ],
            [
             0.2222222222222222,
             "#7201a8"
            ],
            [
             0.3333333333333333,
             "#9c179e"
            ],
            [
             0.4444444444444444,
             "#bd3786"
            ],
            [
             0.5555555555555556,
             "#d8576b"
            ],
            [
             0.6666666666666666,
             "#ed7953"
            ],
            [
             0.7777777777777778,
             "#fb9f3a"
            ],
            [
             0.8888888888888888,
             "#fdca26"
            ],
            [
             1,
             "#f0f921"
            ]
           ]
          },
          "colorway": [
           "#636efa",
           "#EF553B",
           "#00cc96",
           "#ab63fa",
           "#FFA15A",
           "#19d3f3",
           "#FF6692",
           "#B6E880",
           "#FF97FF",
           "#FECB52"
          ],
          "font": {
           "color": "#2a3f5f"
          },
          "geo": {
           "bgcolor": "white",
           "lakecolor": "white",
           "landcolor": "#E5ECF6",
           "showlakes": true,
           "showland": true,
           "subunitcolor": "white"
          },
          "hoverlabel": {
           "align": "left"
          },
          "hovermode": "closest",
          "mapbox": {
           "style": "light"
          },
          "paper_bgcolor": "white",
          "plot_bgcolor": "#E5ECF6",
          "polar": {
           "angularaxis": {
            "gridcolor": "white",
            "linecolor": "white",
            "ticks": ""
           },
           "bgcolor": "#E5ECF6",
           "radialaxis": {
            "gridcolor": "white",
            "linecolor": "white",
            "ticks": ""
           }
          },
          "scene": {
           "xaxis": {
            "backgroundcolor": "#E5ECF6",
            "gridcolor": "white",
            "gridwidth": 2,
            "linecolor": "white",
            "showbackground": true,
            "ticks": "",
            "zerolinecolor": "white"
           },
           "yaxis": {
            "backgroundcolor": "#E5ECF6",
            "gridcolor": "white",
            "gridwidth": 2,
            "linecolor": "white",
            "showbackground": true,
            "ticks": "",
            "zerolinecolor": "white"
           },
           "zaxis": {
            "backgroundcolor": "#E5ECF6",
            "gridcolor": "white",
            "gridwidth": 2,
            "linecolor": "white",
            "showbackground": true,
            "ticks": "",
            "zerolinecolor": "white"
           }
          },
          "shapedefaults": {
           "line": {
            "color": "#2a3f5f"
           }
          },
          "ternary": {
           "aaxis": {
            "gridcolor": "white",
            "linecolor": "white",
            "ticks": ""
           },
           "baxis": {
            "gridcolor": "white",
            "linecolor": "white",
            "ticks": ""
           },
           "bgcolor": "#E5ECF6",
           "caxis": {
            "gridcolor": "white",
            "linecolor": "white",
            "ticks": ""
           }
          },
          "title": {
           "x": 0.05
          },
          "xaxis": {
           "automargin": true,
           "gridcolor": "white",
           "linecolor": "white",
           "ticks": "",
           "title": {
            "standoff": 15
           },
           "zerolinecolor": "white",
           "zerolinewidth": 2
          },
          "yaxis": {
           "automargin": true,
           "gridcolor": "white",
           "linecolor": "white",
           "ticks": "",
           "title": {
            "standoff": 15
           },
           "zerolinecolor": "white",
           "zerolinewidth": 2
          }
         }
        },
        "title": {
         "text": "Total Rolls per Character (Campaign 2)",
         "x": 0.5
        },
        "xaxis": {
         "anchor": "y",
         "domain": [
          0,
          1
         ],
         "title": {
          "text": "Total Rolls"
         }
        },
        "yaxis": {
         "anchor": "x",
         "domain": [
          0,
          1
         ],
         "title": {
          "text": "Character"
         }
        }
       }
      }
     },
     "metadata": {},
     "output_type": "display_data"
    }
   ],
   "source": [
    "# Count total rolls per character\n",
    "character_counts = df[\"Character\"].value_counts().reset_index()\n",
    "character_counts.columns = [\"Character\", \"Total Rolls\"]\n",
    "character_counts = character_counts.sort_values(\"Total Rolls\", ascending=True)\n",
    "\n",
    "# Create a horizontal bar chart\n",
    "fig = px.bar(\n",
    "    character_counts,\n",
    "    x=\"Total Rolls\",\n",
    "    y=\"Character\",\n",
    "    orientation=\"h\",\n",
    "    title=\"Total Rolls per Character (Campaign 2)\",\n",
    "    text=\"Total Rolls\",\n",
    "    color=\"Total Rolls\",\n",
    "    color_continuous_scale=\"Magma\"\n",
    ")\n",
    "\n",
    "fig.update_layout(\n",
    "    xaxis_title=\"Total Rolls\",\n",
    "    yaxis_title=\"Character\",\n",
    "    title_x=0.5,\n",
    "    height=500,\n",
    "    plot_bgcolor=\"#fdf6f0\"\n",
    ")\n",
    "\n",
    "fig.update_traces(textposition=\"outside\")\n",
    "\n",
    "fig.show()\n"
   ]
  },
  {
   "cell_type": "markdown",
   "metadata": {},
   "source": [
    "#### Insight: Camaign Dynamic\n",
    "\n",
    "This graph provides great insight into the dynamic of the cmpaign. We can see that Beau made the most rolls out of all the characters, which makes sense, as she is playing a monk and its known that that class offers more actions in combat. So the next course of action would be to investigate the roll type by character to prove this hypothesis.\n",
    "***"
   ]
  },
  {
   "cell_type": "markdown",
   "metadata": {},
   "source": [
    "### Roll Type Breakdown by Character (Interactive)\n",
    "\n",
    "This interactive chart allows us to explore the breakdown of roll types for each character. By selecting a character from the dropdown menu, we can observe which kinds of actions they performed most, whether it's skill checks, attacks, spellcasting, or saving throws.\n"
   ]
  },
  {
   "cell_type": "code",
   "execution_count": 53,
   "metadata": {},
   "outputs": [
    {
     "data": {
      "application/vnd.plotly.v1+json": {
       "config": {
        "plotlyServerURL": "https://plot.ly"
       },
       "data": [
        {
         "hole": 0.4,
         "labels": [
          "Attack",
          "Skill Check",
          "Other",
          "Saving Throw"
         ],
         "name": "Beau",
         "textinfo": "percent+label",
         "type": "pie",
         "values": {
          "bdata": "3gO6A2QD9AA=",
          "dtype": "i2"
         },
         "visible": true
        },
        {
         "hole": 0.4,
         "labels": [
          "Skill Check",
          "Other",
          "Saving Throw",
          "Attack"
         ],
         "name": "Caduceus",
         "textinfo": "percent+label",
         "type": "pie",
         "values": {
          "bdata": "nAKTAdcAJwA=",
          "dtype": "i2"
         },
         "visible": false
        },
        {
         "hole": 0.4,
         "labels": [
          "Skill Check",
          "Other",
          "Saving Throw",
          "Attack",
          "Spellcasting"
         ],
         "name": "Caleb",
         "textinfo": "percent+label",
         "type": "pie",
         "values": {
          "bdata": "GgPpAfYAzQACAA==",
          "dtype": "i2"
         },
         "visible": false
        },
        {
         "hole": 0.4,
         "labels": [
          "Skill Check",
          "Other",
          "Attack",
          "Saving Throw"
         ],
         "name": "Fjord",
         "textinfo": "percent+label",
         "type": "pie",
         "values": {
          "bdata": "+gJeAgkC6AA=",
          "dtype": "i2"
         },
         "visible": false
        },
        {
         "hole": 0.4,
         "labels": [
          "Skill Check",
          "Other",
          "Attack",
          "Saving Throw"
         ],
         "name": "Guest",
         "textinfo": "percent+label",
         "type": "pie",
         "values": {
          "bdata": "hQBkAE8AGgA=",
          "dtype": "i2"
         },
         "visible": false
        },
        {
         "hole": 0.4,
         "labels": [
          "Skill Check",
          "Other",
          "Attack",
          "Saving Throw"
         ],
         "name": "Jester",
         "textinfo": "percent+label",
         "type": "pie",
         "values": {
          "bdata": "WgPrAuQA2QA=",
          "dtype": "i2"
         },
         "visible": false
        },
        {
         "hole": 0.4,
         "labels": [
          "Skill Check",
          "Other",
          "Attack",
          "Saving Throw"
         ],
         "name": "Molly",
         "textinfo": "percent+label",
         "type": "pie",
         "values": {
          "bdata": "qwCVAG0AEgA=",
          "dtype": "i2"
         },
         "visible": false
        },
        {
         "hole": 0.4,
         "labels": [
          "Skill Check",
          "Other",
          "Attack",
          "Saving Throw"
         ],
         "name": "NPC",
         "textinfo": "percent+label",
         "type": "pie",
         "values": {
          "bdata": "ekQ/EQ==",
          "dtype": "i1"
         },
         "visible": false
        },
        {
         "hole": 0.4,
         "labels": [
          "Skill Check",
          "Other",
          "Attack",
          "Saving Throw"
         ],
         "name": "Veth",
         "textinfo": "percent+label",
         "type": "pie",
         "values": {
          "bdata": "3QPIAuUBvgA=",
          "dtype": "i2"
         },
         "visible": false
        },
        {
         "hole": 0.4,
         "labels": [
          "Other",
          "Attack",
          "Skill Check",
          "Saving Throw"
         ],
         "name": "Yasha",
         "textinfo": "percent+label",
         "type": "pie",
         "values": {
          "bdata": "FALsAS8BGgE=",
          "dtype": "i2"
         },
         "visible": false
        }
       ],
       "layout": {
        "height": 600,
        "showlegend": true,
        "template": {
         "data": {
          "bar": [
           {
            "error_x": {
             "color": "#2a3f5f"
            },
            "error_y": {
             "color": "#2a3f5f"
            },
            "marker": {
             "line": {
              "color": "#E5ECF6",
              "width": 0.5
             },
             "pattern": {
              "fillmode": "overlay",
              "size": 10,
              "solidity": 0.2
             }
            },
            "type": "bar"
           }
          ],
          "barpolar": [
           {
            "marker": {
             "line": {
              "color": "#E5ECF6",
              "width": 0.5
             },
             "pattern": {
              "fillmode": "overlay",
              "size": 10,
              "solidity": 0.2
             }
            },
            "type": "barpolar"
           }
          ],
          "carpet": [
           {
            "aaxis": {
             "endlinecolor": "#2a3f5f",
             "gridcolor": "white",
             "linecolor": "white",
             "minorgridcolor": "white",
             "startlinecolor": "#2a3f5f"
            },
            "baxis": {
             "endlinecolor": "#2a3f5f",
             "gridcolor": "white",
             "linecolor": "white",
             "minorgridcolor": "white",
             "startlinecolor": "#2a3f5f"
            },
            "type": "carpet"
           }
          ],
          "choropleth": [
           {
            "colorbar": {
             "outlinewidth": 0,
             "ticks": ""
            },
            "type": "choropleth"
           }
          ],
          "contour": [
           {
            "colorbar": {
             "outlinewidth": 0,
             "ticks": ""
            },
            "colorscale": [
             [
              0,
              "#0d0887"
             ],
             [
              0.1111111111111111,
              "#46039f"
             ],
             [
              0.2222222222222222,
              "#7201a8"
             ],
             [
              0.3333333333333333,
              "#9c179e"
             ],
             [
              0.4444444444444444,
              "#bd3786"
             ],
             [
              0.5555555555555556,
              "#d8576b"
             ],
             [
              0.6666666666666666,
              "#ed7953"
             ],
             [
              0.7777777777777778,
              "#fb9f3a"
             ],
             [
              0.8888888888888888,
              "#fdca26"
             ],
             [
              1,
              "#f0f921"
             ]
            ],
            "type": "contour"
           }
          ],
          "contourcarpet": [
           {
            "colorbar": {
             "outlinewidth": 0,
             "ticks": ""
            },
            "type": "contourcarpet"
           }
          ],
          "heatmap": [
           {
            "colorbar": {
             "outlinewidth": 0,
             "ticks": ""
            },
            "colorscale": [
             [
              0,
              "#0d0887"
             ],
             [
              0.1111111111111111,
              "#46039f"
             ],
             [
              0.2222222222222222,
              "#7201a8"
             ],
             [
              0.3333333333333333,
              "#9c179e"
             ],
             [
              0.4444444444444444,
              "#bd3786"
             ],
             [
              0.5555555555555556,
              "#d8576b"
             ],
             [
              0.6666666666666666,
              "#ed7953"
             ],
             [
              0.7777777777777778,
              "#fb9f3a"
             ],
             [
              0.8888888888888888,
              "#fdca26"
             ],
             [
              1,
              "#f0f921"
             ]
            ],
            "type": "heatmap"
           }
          ],
          "histogram": [
           {
            "marker": {
             "pattern": {
              "fillmode": "overlay",
              "size": 10,
              "solidity": 0.2
             }
            },
            "type": "histogram"
           }
          ],
          "histogram2d": [
           {
            "colorbar": {
             "outlinewidth": 0,
             "ticks": ""
            },
            "colorscale": [
             [
              0,
              "#0d0887"
             ],
             [
              0.1111111111111111,
              "#46039f"
             ],
             [
              0.2222222222222222,
              "#7201a8"
             ],
             [
              0.3333333333333333,
              "#9c179e"
             ],
             [
              0.4444444444444444,
              "#bd3786"
             ],
             [
              0.5555555555555556,
              "#d8576b"
             ],
             [
              0.6666666666666666,
              "#ed7953"
             ],
             [
              0.7777777777777778,
              "#fb9f3a"
             ],
             [
              0.8888888888888888,
              "#fdca26"
             ],
             [
              1,
              "#f0f921"
             ]
            ],
            "type": "histogram2d"
           }
          ],
          "histogram2dcontour": [
           {
            "colorbar": {
             "outlinewidth": 0,
             "ticks": ""
            },
            "colorscale": [
             [
              0,
              "#0d0887"
             ],
             [
              0.1111111111111111,
              "#46039f"
             ],
             [
              0.2222222222222222,
              "#7201a8"
             ],
             [
              0.3333333333333333,
              "#9c179e"
             ],
             [
              0.4444444444444444,
              "#bd3786"
             ],
             [
              0.5555555555555556,
              "#d8576b"
             ],
             [
              0.6666666666666666,
              "#ed7953"
             ],
             [
              0.7777777777777778,
              "#fb9f3a"
             ],
             [
              0.8888888888888888,
              "#fdca26"
             ],
             [
              1,
              "#f0f921"
             ]
            ],
            "type": "histogram2dcontour"
           }
          ],
          "mesh3d": [
           {
            "colorbar": {
             "outlinewidth": 0,
             "ticks": ""
            },
            "type": "mesh3d"
           }
          ],
          "parcoords": [
           {
            "line": {
             "colorbar": {
              "outlinewidth": 0,
              "ticks": ""
             }
            },
            "type": "parcoords"
           }
          ],
          "pie": [
           {
            "automargin": true,
            "type": "pie"
           }
          ],
          "scatter": [
           {
            "fillpattern": {
             "fillmode": "overlay",
             "size": 10,
             "solidity": 0.2
            },
            "type": "scatter"
           }
          ],
          "scatter3d": [
           {
            "line": {
             "colorbar": {
              "outlinewidth": 0,
              "ticks": ""
             }
            },
            "marker": {
             "colorbar": {
              "outlinewidth": 0,
              "ticks": ""
             }
            },
            "type": "scatter3d"
           }
          ],
          "scattercarpet": [
           {
            "marker": {
             "colorbar": {
              "outlinewidth": 0,
              "ticks": ""
             }
            },
            "type": "scattercarpet"
           }
          ],
          "scattergeo": [
           {
            "marker": {
             "colorbar": {
              "outlinewidth": 0,
              "ticks": ""
             }
            },
            "type": "scattergeo"
           }
          ],
          "scattergl": [
           {
            "marker": {
             "colorbar": {
              "outlinewidth": 0,
              "ticks": ""
             }
            },
            "type": "scattergl"
           }
          ],
          "scattermap": [
           {
            "marker": {
             "colorbar": {
              "outlinewidth": 0,
              "ticks": ""
             }
            },
            "type": "scattermap"
           }
          ],
          "scattermapbox": [
           {
            "marker": {
             "colorbar": {
              "outlinewidth": 0,
              "ticks": ""
             }
            },
            "type": "scattermapbox"
           }
          ],
          "scatterpolar": [
           {
            "marker": {
             "colorbar": {
              "outlinewidth": 0,
              "ticks": ""
             }
            },
            "type": "scatterpolar"
           }
          ],
          "scatterpolargl": [
           {
            "marker": {
             "colorbar": {
              "outlinewidth": 0,
              "ticks": ""
             }
            },
            "type": "scatterpolargl"
           }
          ],
          "scatterternary": [
           {
            "marker": {
             "colorbar": {
              "outlinewidth": 0,
              "ticks": ""
             }
            },
            "type": "scatterternary"
           }
          ],
          "surface": [
           {
            "colorbar": {
             "outlinewidth": 0,
             "ticks": ""
            },
            "colorscale": [
             [
              0,
              "#0d0887"
             ],
             [
              0.1111111111111111,
              "#46039f"
             ],
             [
              0.2222222222222222,
              "#7201a8"
             ],
             [
              0.3333333333333333,
              "#9c179e"
             ],
             [
              0.4444444444444444,
              "#bd3786"
             ],
             [
              0.5555555555555556,
              "#d8576b"
             ],
             [
              0.6666666666666666,
              "#ed7953"
             ],
             [
              0.7777777777777778,
              "#fb9f3a"
             ],
             [
              0.8888888888888888,
              "#fdca26"
             ],
             [
              1,
              "#f0f921"
             ]
            ],
            "type": "surface"
           }
          ],
          "table": [
           {
            "cells": {
             "fill": {
              "color": "#EBF0F8"
             },
             "line": {
              "color": "white"
             }
            },
            "header": {
             "fill": {
              "color": "#C8D4E3"
             },
             "line": {
              "color": "white"
             }
            },
            "type": "table"
           }
          ]
         },
         "layout": {
          "annotationdefaults": {
           "arrowcolor": "#2a3f5f",
           "arrowhead": 0,
           "arrowwidth": 1
          },
          "autotypenumbers": "strict",
          "coloraxis": {
           "colorbar": {
            "outlinewidth": 0,
            "ticks": ""
           }
          },
          "colorscale": {
           "diverging": [
            [
             0,
             "#8e0152"
            ],
            [
             0.1,
             "#c51b7d"
            ],
            [
             0.2,
             "#de77ae"
            ],
            [
             0.3,
             "#f1b6da"
            ],
            [
             0.4,
             "#fde0ef"
            ],
            [
             0.5,
             "#f7f7f7"
            ],
            [
             0.6,
             "#e6f5d0"
            ],
            [
             0.7,
             "#b8e186"
            ],
            [
             0.8,
             "#7fbc41"
            ],
            [
             0.9,
             "#4d9221"
            ],
            [
             1,
             "#276419"
            ]
           ],
           "sequential": [
            [
             0,
             "#0d0887"
            ],
            [
             0.1111111111111111,
             "#46039f"
            ],
            [
             0.2222222222222222,
             "#7201a8"
            ],
            [
             0.3333333333333333,
             "#9c179e"
            ],
            [
             0.4444444444444444,
             "#bd3786"
            ],
            [
             0.5555555555555556,
             "#d8576b"
            ],
            [
             0.6666666666666666,
             "#ed7953"
            ],
            [
             0.7777777777777778,
             "#fb9f3a"
            ],
            [
             0.8888888888888888,
             "#fdca26"
            ],
            [
             1,
             "#f0f921"
            ]
           ],
           "sequentialminus": [
            [
             0,
             "#0d0887"
            ],
            [
             0.1111111111111111,
             "#46039f"
            ],
            [
             0.2222222222222222,
             "#7201a8"
            ],
            [
             0.3333333333333333,
             "#9c179e"
            ],
            [
             0.4444444444444444,
             "#bd3786"
            ],
            [
             0.5555555555555556,
             "#d8576b"
            ],
            [
             0.6666666666666666,
             "#ed7953"
            ],
            [
             0.7777777777777778,
             "#fb9f3a"
            ],
            [
             0.8888888888888888,
             "#fdca26"
            ],
            [
             1,
             "#f0f921"
            ]
           ]
          },
          "colorway": [
           "#636efa",
           "#EF553B",
           "#00cc96",
           "#ab63fa",
           "#FFA15A",
           "#19d3f3",
           "#FF6692",
           "#B6E880",
           "#FF97FF",
           "#FECB52"
          ],
          "font": {
           "color": "#2a3f5f"
          },
          "geo": {
           "bgcolor": "white",
           "lakecolor": "white",
           "landcolor": "#E5ECF6",
           "showlakes": true,
           "showland": true,
           "subunitcolor": "white"
          },
          "hoverlabel": {
           "align": "left"
          },
          "hovermode": "closest",
          "mapbox": {
           "style": "light"
          },
          "paper_bgcolor": "white",
          "plot_bgcolor": "#E5ECF6",
          "polar": {
           "angularaxis": {
            "gridcolor": "white",
            "linecolor": "white",
            "ticks": ""
           },
           "bgcolor": "#E5ECF6",
           "radialaxis": {
            "gridcolor": "white",
            "linecolor": "white",
            "ticks": ""
           }
          },
          "scene": {
           "xaxis": {
            "backgroundcolor": "#E5ECF6",
            "gridcolor": "white",
            "gridwidth": 2,
            "linecolor": "white",
            "showbackground": true,
            "ticks": "",
            "zerolinecolor": "white"
           },
           "yaxis": {
            "backgroundcolor": "#E5ECF6",
            "gridcolor": "white",
            "gridwidth": 2,
            "linecolor": "white",
            "showbackground": true,
            "ticks": "",
            "zerolinecolor": "white"
           },
           "zaxis": {
            "backgroundcolor": "#E5ECF6",
            "gridcolor": "white",
            "gridwidth": 2,
            "linecolor": "white",
            "showbackground": true,
            "ticks": "",
            "zerolinecolor": "white"
           }
          },
          "shapedefaults": {
           "line": {
            "color": "#2a3f5f"
           }
          },
          "ternary": {
           "aaxis": {
            "gridcolor": "white",
            "linecolor": "white",
            "ticks": ""
           },
           "baxis": {
            "gridcolor": "white",
            "linecolor": "white",
            "ticks": ""
           },
           "bgcolor": "#E5ECF6",
           "caxis": {
            "gridcolor": "white",
            "linecolor": "white",
            "ticks": ""
           }
          },
          "title": {
           "x": 0.05
          },
          "xaxis": {
           "automargin": true,
           "gridcolor": "white",
           "linecolor": "white",
           "ticks": "",
           "title": {
            "standoff": 15
           },
           "zerolinecolor": "white",
           "zerolinewidth": 2
          },
          "yaxis": {
           "automargin": true,
           "gridcolor": "white",
           "linecolor": "white",
           "ticks": "",
           "title": {
            "standoff": 15
           },
           "zerolinecolor": "white",
           "zerolinewidth": 2
          }
         }
        },
        "title": {
         "text": "Roll Type Breakdown: Beau"
        },
        "updatemenus": [
         {
          "active": 0,
          "buttons": [
           {
            "args": [
             {
              "visible": [
               true,
               false,
               false,
               false,
               false,
               false,
               false,
               false,
               false,
               false
              ]
             },
             {
              "title": "Roll Type Breakdown: Beau"
             }
            ],
            "label": "Beau",
            "method": "update"
           },
           {
            "args": [
             {
              "visible": [
               false,
               true,
               false,
               false,
               false,
               false,
               false,
               false,
               false,
               false
              ]
             },
             {
              "title": "Roll Type Breakdown: Caduceus"
             }
            ],
            "label": "Caduceus",
            "method": "update"
           },
           {
            "args": [
             {
              "visible": [
               false,
               false,
               true,
               false,
               false,
               false,
               false,
               false,
               false,
               false
              ]
             },
             {
              "title": "Roll Type Breakdown: Caleb"
             }
            ],
            "label": "Caleb",
            "method": "update"
           },
           {
            "args": [
             {
              "visible": [
               false,
               false,
               false,
               true,
               false,
               false,
               false,
               false,
               false,
               false
              ]
             },
             {
              "title": "Roll Type Breakdown: Fjord"
             }
            ],
            "label": "Fjord",
            "method": "update"
           },
           {
            "args": [
             {
              "visible": [
               false,
               false,
               false,
               false,
               true,
               false,
               false,
               false,
               false,
               false
              ]
             },
             {
              "title": "Roll Type Breakdown: Guest"
             }
            ],
            "label": "Guest",
            "method": "update"
           },
           {
            "args": [
             {
              "visible": [
               false,
               false,
               false,
               false,
               false,
               true,
               false,
               false,
               false,
               false
              ]
             },
             {
              "title": "Roll Type Breakdown: Jester"
             }
            ],
            "label": "Jester",
            "method": "update"
           },
           {
            "args": [
             {
              "visible": [
               false,
               false,
               false,
               false,
               false,
               false,
               true,
               false,
               false,
               false
              ]
             },
             {
              "title": "Roll Type Breakdown: Molly"
             }
            ],
            "label": "Molly",
            "method": "update"
           },
           {
            "args": [
             {
              "visible": [
               false,
               false,
               false,
               false,
               false,
               false,
               false,
               true,
               false,
               false
              ]
             },
             {
              "title": "Roll Type Breakdown: NPC"
             }
            ],
            "label": "NPC",
            "method": "update"
           },
           {
            "args": [
             {
              "visible": [
               false,
               false,
               false,
               false,
               false,
               false,
               false,
               false,
               true,
               false
              ]
             },
             {
              "title": "Roll Type Breakdown: Veth"
             }
            ],
            "label": "Veth",
            "method": "update"
           },
           {
            "args": [
             {
              "visible": [
               false,
               false,
               false,
               false,
               false,
               false,
               false,
               false,
               false,
               true
              ]
             },
             {
              "title": "Roll Type Breakdown: Yasha"
             }
            ],
            "label": "Yasha",
            "method": "update"
           }
          ],
          "x": 0.5,
          "xanchor": "center",
          "y": 1.2
         }
        ]
       }
      }
     },
     "metadata": {},
     "output_type": "display_data"
    }
   ],
   "source": [
    "# Get the list of unique characters (optional: filter to main characters only)\n",
    "unique_characters = sorted(df[\"Character\"].unique())\n",
    "\n",
    "# Create the figure and add one pie trace per character\n",
    "fig = go.Figure()\n",
    "\n",
    "for i, char in enumerate(unique_characters):\n",
    "    char_data = df[df[\"Character\"] == char][\"Roll Category\"].value_counts().reset_index()\n",
    "    char_data.columns = [\"Roll Category\", \"Count\"]\n",
    "    \n",
    "    fig.add_trace(go.Pie(\n",
    "        labels=char_data[\"Roll Category\"],\n",
    "        values=char_data[\"Count\"],\n",
    "        name=char,\n",
    "        hole=0.4,\n",
    "        visible=(i == 0),\n",
    "        textinfo=\"percent+label\"\n",
    "    ))\n",
    "\n",
    "# Create the dropdown buttons\n",
    "dropdown_buttons = [\n",
    "    dict(label=char,\n",
    "         method=\"update\",\n",
    "         args=[\n",
    "             {\"visible\": [i == j for j in range(len(unique_characters))]},\n",
    "             {\"title\": f\"Roll Type Breakdown: {char}\"}\n",
    "         ])\n",
    "    for i, char in enumerate(unique_characters)\n",
    "]\n",
    "\n",
    "# Update the layout with dropdown\n",
    "fig.update_layout(\n",
    "    updatemenus=[\n",
    "        dict(\n",
    "            active=0,\n",
    "            buttons=dropdown_buttons,\n",
    "            x=0.5,\n",
    "            xanchor=\"center\",\n",
    "            y=1.2\n",
    "        )\n",
    "    ],\n",
    "    title=f\"Roll Type Breakdown: {unique_characters[0]}\",\n",
    "    height=600,\n",
    "    showlegend=True\n",
    ")\n",
    "\n",
    "fig.show()"
   ]
  },
  {
   "cell_type": "markdown",
   "metadata": {},
   "source": [
    "#### Insight: How Each Character Rolled\n",
    "\n",
    "This chart shows the proportion of roll types made by each character, giving insight into their overall playstyle and in-game role:\n",
    "\n",
    "- Characters like **Beau** show a balance between **attack rolls** and **skill checks**, reflecting her monk class and investigation-heavy moments.\n",
    "- **Caduceus** and **Jester** have higher proportions of **\"other\" rolls**, tied to their frequent use of magical abilities.\n",
    "- **Fjord** and **Veth** display a balance between **attack rolls** and **saving throws**, as part of their combat-forward styles.\n",
    "- **Yasha** has the most balanced roll types, and this can be due to her absence on several episodes. \n",
    "\n",
    "Overall, this chart helps visualise how each character interacted with the game's mechanics—not just how often they rolled, but *what they were doing* when they did.\n",
    "***"
   ]
  },
  {
   "cell_type": "markdown",
   "metadata": {},
   "source": [
    "### Nat 1 vs Nat 20 by character\n",
    "\n",
    "This chart compares the number of critical failures (natural 1s) and critical successes (natural 20s) for each character. These extreme outcomes often create dramatic and memorable moments during gameplay. By visualising them side by side, we can explore which characters were luckiest or unluckiest, over the course of Campaign 2."
   ]
  },
  {
   "cell_type": "code",
   "execution_count": 54,
   "metadata": {},
   "outputs": [
    {
     "data": {
      "application/vnd.plotly.v1+json": {
       "config": {
        "plotlyServerURL": "https://plot.ly"
       },
       "data": [
        {
         "alignmentgroup": "True",
         "hovertemplate": "Roll Type=Nat 1<br>Character=%{x}<br>Count=%{text}<extra></extra>",
         "legendgroup": "Nat 1",
         "marker": {
          "color": "#FF6666",
          "pattern": {
           "shape": ""
          }
         },
         "name": "Nat 1",
         "offsetgroup": "Nat 1",
         "orientation": "v",
         "showlegend": true,
         "text": {
          "bdata": "AAAAAAAAW0AAAAAAAAA8QAAAAAAAgFBAAAAAAABAUEAAAAAAAMBUQAAAAAAAACZAAAAAAADAVUAAAAAAAABMQA==",
          "dtype": "f8"
         },
         "textposition": "auto",
         "type": "bar",
         "x": [
          "Beau",
          "Caduceus",
          "Caleb",
          "Fjord",
          "Jester",
          "Molly",
          "Veth",
          "Yasha"
         ],
         "xaxis": "x",
         "y": {
          "bdata": "bBxCQVMLVzg=",
          "dtype": "i1"
         },
         "yaxis": "y"
        },
        {
         "alignmentgroup": "True",
         "hovertemplate": "Roll Type=Nat 20<br>Character=%{x}<br>Count=%{text}<extra></extra>",
         "legendgroup": "Nat 20",
         "marker": {
          "color": "#66FF99",
          "pattern": {
           "shape": ""
          }
         },
         "name": "Nat 20",
         "offsetgroup": "Nat 20",
         "orientation": "v",
         "showlegend": true,
         "text": {
          "bdata": "AAAAAABgYUAAAAAAAIBIQAAAAAAAAFVAAAAAAABAW0AAAAAAAMBRQAAAAAAAADpAAAAAAACAVUAAAAAAAEBQQA==",
          "dtype": "f8"
         },
         "textposition": "auto",
         "type": "bar",
         "x": [
          "Beau",
          "Caduceus",
          "Caleb",
          "Fjord",
          "Jester",
          "Molly",
          "Veth",
          "Yasha"
         ],
         "xaxis": "x",
         "y": {
          "bdata": "iwAxAFQAbQBHABoAVgBBAA==",
          "dtype": "i2"
         },
         "yaxis": "y"
        }
       ],
       "layout": {
        "barmode": "group",
        "height": 500,
        "legend": {
         "title": {
          "text": "Roll Type"
         },
         "tracegroupgap": 0
        },
        "template": {
         "data": {
          "bar": [
           {
            "error_x": {
             "color": "#2a3f5f"
            },
            "error_y": {
             "color": "#2a3f5f"
            },
            "marker": {
             "line": {
              "color": "#E5ECF6",
              "width": 0.5
             },
             "pattern": {
              "fillmode": "overlay",
              "size": 10,
              "solidity": 0.2
             }
            },
            "type": "bar"
           }
          ],
          "barpolar": [
           {
            "marker": {
             "line": {
              "color": "#E5ECF6",
              "width": 0.5
             },
             "pattern": {
              "fillmode": "overlay",
              "size": 10,
              "solidity": 0.2
             }
            },
            "type": "barpolar"
           }
          ],
          "carpet": [
           {
            "aaxis": {
             "endlinecolor": "#2a3f5f",
             "gridcolor": "white",
             "linecolor": "white",
             "minorgridcolor": "white",
             "startlinecolor": "#2a3f5f"
            },
            "baxis": {
             "endlinecolor": "#2a3f5f",
             "gridcolor": "white",
             "linecolor": "white",
             "minorgridcolor": "white",
             "startlinecolor": "#2a3f5f"
            },
            "type": "carpet"
           }
          ],
          "choropleth": [
           {
            "colorbar": {
             "outlinewidth": 0,
             "ticks": ""
            },
            "type": "choropleth"
           }
          ],
          "contour": [
           {
            "colorbar": {
             "outlinewidth": 0,
             "ticks": ""
            },
            "colorscale": [
             [
              0,
              "#0d0887"
             ],
             [
              0.1111111111111111,
              "#46039f"
             ],
             [
              0.2222222222222222,
              "#7201a8"
             ],
             [
              0.3333333333333333,
              "#9c179e"
             ],
             [
              0.4444444444444444,
              "#bd3786"
             ],
             [
              0.5555555555555556,
              "#d8576b"
             ],
             [
              0.6666666666666666,
              "#ed7953"
             ],
             [
              0.7777777777777778,
              "#fb9f3a"
             ],
             [
              0.8888888888888888,
              "#fdca26"
             ],
             [
              1,
              "#f0f921"
             ]
            ],
            "type": "contour"
           }
          ],
          "contourcarpet": [
           {
            "colorbar": {
             "outlinewidth": 0,
             "ticks": ""
            },
            "type": "contourcarpet"
           }
          ],
          "heatmap": [
           {
            "colorbar": {
             "outlinewidth": 0,
             "ticks": ""
            },
            "colorscale": [
             [
              0,
              "#0d0887"
             ],
             [
              0.1111111111111111,
              "#46039f"
             ],
             [
              0.2222222222222222,
              "#7201a8"
             ],
             [
              0.3333333333333333,
              "#9c179e"
             ],
             [
              0.4444444444444444,
              "#bd3786"
             ],
             [
              0.5555555555555556,
              "#d8576b"
             ],
             [
              0.6666666666666666,
              "#ed7953"
             ],
             [
              0.7777777777777778,
              "#fb9f3a"
             ],
             [
              0.8888888888888888,
              "#fdca26"
             ],
             [
              1,
              "#f0f921"
             ]
            ],
            "type": "heatmap"
           }
          ],
          "histogram": [
           {
            "marker": {
             "pattern": {
              "fillmode": "overlay",
              "size": 10,
              "solidity": 0.2
             }
            },
            "type": "histogram"
           }
          ],
          "histogram2d": [
           {
            "colorbar": {
             "outlinewidth": 0,
             "ticks": ""
            },
            "colorscale": [
             [
              0,
              "#0d0887"
             ],
             [
              0.1111111111111111,
              "#46039f"
             ],
             [
              0.2222222222222222,
              "#7201a8"
             ],
             [
              0.3333333333333333,
              "#9c179e"
             ],
             [
              0.4444444444444444,
              "#bd3786"
             ],
             [
              0.5555555555555556,
              "#d8576b"
             ],
             [
              0.6666666666666666,
              "#ed7953"
             ],
             [
              0.7777777777777778,
              "#fb9f3a"
             ],
             [
              0.8888888888888888,
              "#fdca26"
             ],
             [
              1,
              "#f0f921"
             ]
            ],
            "type": "histogram2d"
           }
          ],
          "histogram2dcontour": [
           {
            "colorbar": {
             "outlinewidth": 0,
             "ticks": ""
            },
            "colorscale": [
             [
              0,
              "#0d0887"
             ],
             [
              0.1111111111111111,
              "#46039f"
             ],
             [
              0.2222222222222222,
              "#7201a8"
             ],
             [
              0.3333333333333333,
              "#9c179e"
             ],
             [
              0.4444444444444444,
              "#bd3786"
             ],
             [
              0.5555555555555556,
              "#d8576b"
             ],
             [
              0.6666666666666666,
              "#ed7953"
             ],
             [
              0.7777777777777778,
              "#fb9f3a"
             ],
             [
              0.8888888888888888,
              "#fdca26"
             ],
             [
              1,
              "#f0f921"
             ]
            ],
            "type": "histogram2dcontour"
           }
          ],
          "mesh3d": [
           {
            "colorbar": {
             "outlinewidth": 0,
             "ticks": ""
            },
            "type": "mesh3d"
           }
          ],
          "parcoords": [
           {
            "line": {
             "colorbar": {
              "outlinewidth": 0,
              "ticks": ""
             }
            },
            "type": "parcoords"
           }
          ],
          "pie": [
           {
            "automargin": true,
            "type": "pie"
           }
          ],
          "scatter": [
           {
            "fillpattern": {
             "fillmode": "overlay",
             "size": 10,
             "solidity": 0.2
            },
            "type": "scatter"
           }
          ],
          "scatter3d": [
           {
            "line": {
             "colorbar": {
              "outlinewidth": 0,
              "ticks": ""
             }
            },
            "marker": {
             "colorbar": {
              "outlinewidth": 0,
              "ticks": ""
             }
            },
            "type": "scatter3d"
           }
          ],
          "scattercarpet": [
           {
            "marker": {
             "colorbar": {
              "outlinewidth": 0,
              "ticks": ""
             }
            },
            "type": "scattercarpet"
           }
          ],
          "scattergeo": [
           {
            "marker": {
             "colorbar": {
              "outlinewidth": 0,
              "ticks": ""
             }
            },
            "type": "scattergeo"
           }
          ],
          "scattergl": [
           {
            "marker": {
             "colorbar": {
              "outlinewidth": 0,
              "ticks": ""
             }
            },
            "type": "scattergl"
           }
          ],
          "scattermap": [
           {
            "marker": {
             "colorbar": {
              "outlinewidth": 0,
              "ticks": ""
             }
            },
            "type": "scattermap"
           }
          ],
          "scattermapbox": [
           {
            "marker": {
             "colorbar": {
              "outlinewidth": 0,
              "ticks": ""
             }
            },
            "type": "scattermapbox"
           }
          ],
          "scatterpolar": [
           {
            "marker": {
             "colorbar": {
              "outlinewidth": 0,
              "ticks": ""
             }
            },
            "type": "scatterpolar"
           }
          ],
          "scatterpolargl": [
           {
            "marker": {
             "colorbar": {
              "outlinewidth": 0,
              "ticks": ""
             }
            },
            "type": "scatterpolargl"
           }
          ],
          "scatterternary": [
           {
            "marker": {
             "colorbar": {
              "outlinewidth": 0,
              "ticks": ""
             }
            },
            "type": "scatterternary"
           }
          ],
          "surface": [
           {
            "colorbar": {
             "outlinewidth": 0,
             "ticks": ""
            },
            "colorscale": [
             [
              0,
              "#0d0887"
             ],
             [
              0.1111111111111111,
              "#46039f"
             ],
             [
              0.2222222222222222,
              "#7201a8"
             ],
             [
              0.3333333333333333,
              "#9c179e"
             ],
             [
              0.4444444444444444,
              "#bd3786"
             ],
             [
              0.5555555555555556,
              "#d8576b"
             ],
             [
              0.6666666666666666,
              "#ed7953"
             ],
             [
              0.7777777777777778,
              "#fb9f3a"
             ],
             [
              0.8888888888888888,
              "#fdca26"
             ],
             [
              1,
              "#f0f921"
             ]
            ],
            "type": "surface"
           }
          ],
          "table": [
           {
            "cells": {
             "fill": {
              "color": "#EBF0F8"
             },
             "line": {
              "color": "white"
             }
            },
            "header": {
             "fill": {
              "color": "#C8D4E3"
             },
             "line": {
              "color": "white"
             }
            },
            "type": "table"
           }
          ]
         },
         "layout": {
          "annotationdefaults": {
           "arrowcolor": "#2a3f5f",
           "arrowhead": 0,
           "arrowwidth": 1
          },
          "autotypenumbers": "strict",
          "coloraxis": {
           "colorbar": {
            "outlinewidth": 0,
            "ticks": ""
           }
          },
          "colorscale": {
           "diverging": [
            [
             0,
             "#8e0152"
            ],
            [
             0.1,
             "#c51b7d"
            ],
            [
             0.2,
             "#de77ae"
            ],
            [
             0.3,
             "#f1b6da"
            ],
            [
             0.4,
             "#fde0ef"
            ],
            [
             0.5,
             "#f7f7f7"
            ],
            [
             0.6,
             "#e6f5d0"
            ],
            [
             0.7,
             "#b8e186"
            ],
            [
             0.8,
             "#7fbc41"
            ],
            [
             0.9,
             "#4d9221"
            ],
            [
             1,
             "#276419"
            ]
           ],
           "sequential": [
            [
             0,
             "#0d0887"
            ],
            [
             0.1111111111111111,
             "#46039f"
            ],
            [
             0.2222222222222222,
             "#7201a8"
            ],
            [
             0.3333333333333333,
             "#9c179e"
            ],
            [
             0.4444444444444444,
             "#bd3786"
            ],
            [
             0.5555555555555556,
             "#d8576b"
            ],
            [
             0.6666666666666666,
             "#ed7953"
            ],
            [
             0.7777777777777778,
             "#fb9f3a"
            ],
            [
             0.8888888888888888,
             "#fdca26"
            ],
            [
             1,
             "#f0f921"
            ]
           ],
           "sequentialminus": [
            [
             0,
             "#0d0887"
            ],
            [
             0.1111111111111111,
             "#46039f"
            ],
            [
             0.2222222222222222,
             "#7201a8"
            ],
            [
             0.3333333333333333,
             "#9c179e"
            ],
            [
             0.4444444444444444,
             "#bd3786"
            ],
            [
             0.5555555555555556,
             "#d8576b"
            ],
            [
             0.6666666666666666,
             "#ed7953"
            ],
            [
             0.7777777777777778,
             "#fb9f3a"
            ],
            [
             0.8888888888888888,
             "#fdca26"
            ],
            [
             1,
             "#f0f921"
            ]
           ]
          },
          "colorway": [
           "#636efa",
           "#EF553B",
           "#00cc96",
           "#ab63fa",
           "#FFA15A",
           "#19d3f3",
           "#FF6692",
           "#B6E880",
           "#FF97FF",
           "#FECB52"
          ],
          "font": {
           "color": "#2a3f5f"
          },
          "geo": {
           "bgcolor": "white",
           "lakecolor": "white",
           "landcolor": "#E5ECF6",
           "showlakes": true,
           "showland": true,
           "subunitcolor": "white"
          },
          "hoverlabel": {
           "align": "left"
          },
          "hovermode": "closest",
          "mapbox": {
           "style": "light"
          },
          "paper_bgcolor": "white",
          "plot_bgcolor": "#E5ECF6",
          "polar": {
           "angularaxis": {
            "gridcolor": "white",
            "linecolor": "white",
            "ticks": ""
           },
           "bgcolor": "#E5ECF6",
           "radialaxis": {
            "gridcolor": "white",
            "linecolor": "white",
            "ticks": ""
           }
          },
          "scene": {
           "xaxis": {
            "backgroundcolor": "#E5ECF6",
            "gridcolor": "white",
            "gridwidth": 2,
            "linecolor": "white",
            "showbackground": true,
            "ticks": "",
            "zerolinecolor": "white"
           },
           "yaxis": {
            "backgroundcolor": "#E5ECF6",
            "gridcolor": "white",
            "gridwidth": 2,
            "linecolor": "white",
            "showbackground": true,
            "ticks": "",
            "zerolinecolor": "white"
           },
           "zaxis": {
            "backgroundcolor": "#E5ECF6",
            "gridcolor": "white",
            "gridwidth": 2,
            "linecolor": "white",
            "showbackground": true,
            "ticks": "",
            "zerolinecolor": "white"
           }
          },
          "shapedefaults": {
           "line": {
            "color": "#2a3f5f"
           }
          },
          "ternary": {
           "aaxis": {
            "gridcolor": "white",
            "linecolor": "white",
            "ticks": ""
           },
           "baxis": {
            "gridcolor": "white",
            "linecolor": "white",
            "ticks": ""
           },
           "bgcolor": "#E5ECF6",
           "caxis": {
            "gridcolor": "white",
            "linecolor": "white",
            "ticks": ""
           }
          },
          "title": {
           "x": 0.05
          },
          "xaxis": {
           "automargin": true,
           "gridcolor": "white",
           "linecolor": "white",
           "ticks": "",
           "title": {
            "standoff": 15
           },
           "zerolinecolor": "white",
           "zerolinewidth": 2
          },
          "yaxis": {
           "automargin": true,
           "gridcolor": "white",
           "linecolor": "white",
           "ticks": "",
           "title": {
            "standoff": 15
           },
           "zerolinecolor": "white",
           "zerolinewidth": 2
          }
         }
        },
        "title": {
         "text": "🎲 Natural 1s vs Natural 20s by Character"
        },
        "xaxis": {
         "anchor": "y",
         "domain": [
          0,
          1
         ],
         "title": {
          "text": "Character"
         }
        },
        "yaxis": {
         "anchor": "x",
         "domain": [
          0,
          1
         ],
         "title": {
          "text": "Count"
         }
        }
       }
      }
     },
     "metadata": {},
     "output_type": "display_data"
    }
   ],
   "source": [
    "# Filter only main characters\n",
    "main_characters = [\"Beau\", \"Fjord\", \"Jester\", \"Veth\", \"Caleb\", \"Yasha\", \"Caduceus\", \"Molly\", \"Kingsley\"]\n",
    "filtered_df = df[df[\"Character\"].isin(main_characters)]\n",
    "\n",
    "# Count Nat 1s and Nat 20s per character\n",
    "nat_counts = filtered_df.groupby(\"Character\")[[\"Is_Nat1\", \"Is_Nat20\"]].sum().reset_index()\n",
    "nat_counts = pd.melt(nat_counts, id_vars=\"Character\", value_vars=[\"Is_Nat1\", \"Is_Nat20\"],\n",
    "                     var_name=\"Roll Type\", value_name=\"Count\")\n",
    "\n",
    "# Rename roll types for display\n",
    "nat_counts[\"Roll Type\"] = nat_counts[\"Roll Type\"].map({\"Is_Nat1\": \"Nat 1\", \"Is_Nat20\": \"Nat 20\"})\n",
    "\n",
    "# Create grouped bar chart\n",
    "fig = px.bar(\n",
    "    nat_counts,\n",
    "    x=\"Character\",\n",
    "    y=\"Count\",\n",
    "    color=\"Roll Type\",\n",
    "    barmode=\"group\",\n",
    "    title=\"🎲 Natural 1s vs Natural 20s by Character\",\n",
    "    text=\"Count\",\n",
    "    color_discrete_map={\"Nat 1\": \"#FF6666\", \"Nat 20\": \"#66FF99\"}\n",
    ")\n",
    "\n",
    "fig.update_layout(\n",
    "    xaxis_title=\"Character\",\n",
    "    yaxis_title=\"Count\",\n",
    "    height=500\n",
    ")\n",
    "\n",
    "fig.show()\n"
   ]
  },
  {
   "cell_type": "markdown",
   "metadata": {},
   "source": [
    "#### Insight: Luckiest and Unluckiest Members of the Mighty Nein\n",
    "\n",
    "This chart highlights some interesting trends in dice fortune:\n",
    "\n",
    "- Characters like **Beau** and **Fjord** rolled a large number of natural 20s, suggesting frequent moments of peak success, perfect for a monk and warlock.\n",
    "- **Jester** and **Veth**, on the other hand, experienced a notable number of natural 1s, possibly contributing to chaotic or failed actions during key moments.\n",
    "- Some characters, like **Molly**, **Caduceus** and **Yasha**, have fewer extremes simply due to appearing in fewer episodes.\n",
    "\n",
    "Overall, the contrast between Nat 1s and Nat 20s gives us a sense of how each character's luck shaped their journey through the campaign, sometimes heroic, sometimes hilariously tragic.\n",
    "***"
   ]
  },
  {
   "cell_type": "markdown",
   "metadata": {},
   "source": [
    "### Total Damage Dealt by Character\n",
    "\n",
    "This chart shows the total amount of damage dealt by each character during Campaign 2. It gives us a sense of who took the most offensive actions in combat, highlighting key damage-dealers in the party.\n",
    "\n",
    "Note that some characters may have lower totals due to fewer appearances or a more supportive playstyle. This chart reflects raw output, not necessarily impact.\n"
   ]
  },
  {
   "cell_type": "code",
   "execution_count": 55,
   "metadata": {},
   "outputs": [
    {
     "data": {
      "application/vnd.plotly.v1+json": {
       "config": {
        "plotlyServerURL": "https://plot.ly"
       },
       "data": [
        {
         "hovertemplate": "Character=%{x}<br>Damage=%{marker.color}<extra></extra>",
         "legendgroup": "",
         "marker": {
          "color": {
           "bdata": "uRl3FzsXFxU1EhgR5QvkAg==",
           "dtype": "i2"
          },
          "coloraxis": "coloraxis",
          "pattern": {
           "shape": ""
          }
         },
         "name": "",
         "orientation": "v",
         "showlegend": false,
         "text": {
          "bdata": "AAAAAAC5uUAAAAAAAHe3QAAAAAAAO7dAAAAAAAAXtUAAAAAAADWyQAAAAAAAGLFAAAAAAADKp0AAAAAAACCHQA==",
          "dtype": "f8"
         },
         "textposition": "outside",
         "type": "bar",
         "x": [
          "Beau",
          "Veth",
          "Fjord",
          "Yasha",
          "Jester",
          "Caleb",
          "Caduceus",
          "Molly"
         ],
         "xaxis": "x",
         "y": {
          "bdata": "uRl3FzsXFxU1EhgR5QvkAg==",
          "dtype": "i2"
         },
         "yaxis": "y"
        }
       ],
       "layout": {
        "barmode": "relative",
        "coloraxis": {
         "colorbar": {
          "title": {
           "text": "Damage"
          }
         },
         "colorscale": [
          [
           0,
           "rgb(255,245,240)"
          ],
          [
           0.125,
           "rgb(254,224,210)"
          ],
          [
           0.25,
           "rgb(252,187,161)"
          ],
          [
           0.375,
           "rgb(252,146,114)"
          ],
          [
           0.5,
           "rgb(251,106,74)"
          ],
          [
           0.625,
           "rgb(239,59,44)"
          ],
          [
           0.75,
           "rgb(203,24,29)"
          ],
          [
           0.875,
           "rgb(165,15,21)"
          ],
          [
           1,
           "rgb(103,0,13)"
          ]
         ]
        },
        "height": 500,
        "legend": {
         "tracegroupgap": 0
        },
        "template": {
         "data": {
          "bar": [
           {
            "error_x": {
             "color": "#2a3f5f"
            },
            "error_y": {
             "color": "#2a3f5f"
            },
            "marker": {
             "line": {
              "color": "#E5ECF6",
              "width": 0.5
             },
             "pattern": {
              "fillmode": "overlay",
              "size": 10,
              "solidity": 0.2
             }
            },
            "type": "bar"
           }
          ],
          "barpolar": [
           {
            "marker": {
             "line": {
              "color": "#E5ECF6",
              "width": 0.5
             },
             "pattern": {
              "fillmode": "overlay",
              "size": 10,
              "solidity": 0.2
             }
            },
            "type": "barpolar"
           }
          ],
          "carpet": [
           {
            "aaxis": {
             "endlinecolor": "#2a3f5f",
             "gridcolor": "white",
             "linecolor": "white",
             "minorgridcolor": "white",
             "startlinecolor": "#2a3f5f"
            },
            "baxis": {
             "endlinecolor": "#2a3f5f",
             "gridcolor": "white",
             "linecolor": "white",
             "minorgridcolor": "white",
             "startlinecolor": "#2a3f5f"
            },
            "type": "carpet"
           }
          ],
          "choropleth": [
           {
            "colorbar": {
             "outlinewidth": 0,
             "ticks": ""
            },
            "type": "choropleth"
           }
          ],
          "contour": [
           {
            "colorbar": {
             "outlinewidth": 0,
             "ticks": ""
            },
            "colorscale": [
             [
              0,
              "#0d0887"
             ],
             [
              0.1111111111111111,
              "#46039f"
             ],
             [
              0.2222222222222222,
              "#7201a8"
             ],
             [
              0.3333333333333333,
              "#9c179e"
             ],
             [
              0.4444444444444444,
              "#bd3786"
             ],
             [
              0.5555555555555556,
              "#d8576b"
             ],
             [
              0.6666666666666666,
              "#ed7953"
             ],
             [
              0.7777777777777778,
              "#fb9f3a"
             ],
             [
              0.8888888888888888,
              "#fdca26"
             ],
             [
              1,
              "#f0f921"
             ]
            ],
            "type": "contour"
           }
          ],
          "contourcarpet": [
           {
            "colorbar": {
             "outlinewidth": 0,
             "ticks": ""
            },
            "type": "contourcarpet"
           }
          ],
          "heatmap": [
           {
            "colorbar": {
             "outlinewidth": 0,
             "ticks": ""
            },
            "colorscale": [
             [
              0,
              "#0d0887"
             ],
             [
              0.1111111111111111,
              "#46039f"
             ],
             [
              0.2222222222222222,
              "#7201a8"
             ],
             [
              0.3333333333333333,
              "#9c179e"
             ],
             [
              0.4444444444444444,
              "#bd3786"
             ],
             [
              0.5555555555555556,
              "#d8576b"
             ],
             [
              0.6666666666666666,
              "#ed7953"
             ],
             [
              0.7777777777777778,
              "#fb9f3a"
             ],
             [
              0.8888888888888888,
              "#fdca26"
             ],
             [
              1,
              "#f0f921"
             ]
            ],
            "type": "heatmap"
           }
          ],
          "histogram": [
           {
            "marker": {
             "pattern": {
              "fillmode": "overlay",
              "size": 10,
              "solidity": 0.2
             }
            },
            "type": "histogram"
           }
          ],
          "histogram2d": [
           {
            "colorbar": {
             "outlinewidth": 0,
             "ticks": ""
            },
            "colorscale": [
             [
              0,
              "#0d0887"
             ],
             [
              0.1111111111111111,
              "#46039f"
             ],
             [
              0.2222222222222222,
              "#7201a8"
             ],
             [
              0.3333333333333333,
              "#9c179e"
             ],
             [
              0.4444444444444444,
              "#bd3786"
             ],
             [
              0.5555555555555556,
              "#d8576b"
             ],
             [
              0.6666666666666666,
              "#ed7953"
             ],
             [
              0.7777777777777778,
              "#fb9f3a"
             ],
             [
              0.8888888888888888,
              "#fdca26"
             ],
             [
              1,
              "#f0f921"
             ]
            ],
            "type": "histogram2d"
           }
          ],
          "histogram2dcontour": [
           {
            "colorbar": {
             "outlinewidth": 0,
             "ticks": ""
            },
            "colorscale": [
             [
              0,
              "#0d0887"
             ],
             [
              0.1111111111111111,
              "#46039f"
             ],
             [
              0.2222222222222222,
              "#7201a8"
             ],
             [
              0.3333333333333333,
              "#9c179e"
             ],
             [
              0.4444444444444444,
              "#bd3786"
             ],
             [
              0.5555555555555556,
              "#d8576b"
             ],
             [
              0.6666666666666666,
              "#ed7953"
             ],
             [
              0.7777777777777778,
              "#fb9f3a"
             ],
             [
              0.8888888888888888,
              "#fdca26"
             ],
             [
              1,
              "#f0f921"
             ]
            ],
            "type": "histogram2dcontour"
           }
          ],
          "mesh3d": [
           {
            "colorbar": {
             "outlinewidth": 0,
             "ticks": ""
            },
            "type": "mesh3d"
           }
          ],
          "parcoords": [
           {
            "line": {
             "colorbar": {
              "outlinewidth": 0,
              "ticks": ""
             }
            },
            "type": "parcoords"
           }
          ],
          "pie": [
           {
            "automargin": true,
            "type": "pie"
           }
          ],
          "scatter": [
           {
            "fillpattern": {
             "fillmode": "overlay",
             "size": 10,
             "solidity": 0.2
            },
            "type": "scatter"
           }
          ],
          "scatter3d": [
           {
            "line": {
             "colorbar": {
              "outlinewidth": 0,
              "ticks": ""
             }
            },
            "marker": {
             "colorbar": {
              "outlinewidth": 0,
              "ticks": ""
             }
            },
            "type": "scatter3d"
           }
          ],
          "scattercarpet": [
           {
            "marker": {
             "colorbar": {
              "outlinewidth": 0,
              "ticks": ""
             }
            },
            "type": "scattercarpet"
           }
          ],
          "scattergeo": [
           {
            "marker": {
             "colorbar": {
              "outlinewidth": 0,
              "ticks": ""
             }
            },
            "type": "scattergeo"
           }
          ],
          "scattergl": [
           {
            "marker": {
             "colorbar": {
              "outlinewidth": 0,
              "ticks": ""
             }
            },
            "type": "scattergl"
           }
          ],
          "scattermap": [
           {
            "marker": {
             "colorbar": {
              "outlinewidth": 0,
              "ticks": ""
             }
            },
            "type": "scattermap"
           }
          ],
          "scattermapbox": [
           {
            "marker": {
             "colorbar": {
              "outlinewidth": 0,
              "ticks": ""
             }
            },
            "type": "scattermapbox"
           }
          ],
          "scatterpolar": [
           {
            "marker": {
             "colorbar": {
              "outlinewidth": 0,
              "ticks": ""
             }
            },
            "type": "scatterpolar"
           }
          ],
          "scatterpolargl": [
           {
            "marker": {
             "colorbar": {
              "outlinewidth": 0,
              "ticks": ""
             }
            },
            "type": "scatterpolargl"
           }
          ],
          "scatterternary": [
           {
            "marker": {
             "colorbar": {
              "outlinewidth": 0,
              "ticks": ""
             }
            },
            "type": "scatterternary"
           }
          ],
          "surface": [
           {
            "colorbar": {
             "outlinewidth": 0,
             "ticks": ""
            },
            "colorscale": [
             [
              0,
              "#0d0887"
             ],
             [
              0.1111111111111111,
              "#46039f"
             ],
             [
              0.2222222222222222,
              "#7201a8"
             ],
             [
              0.3333333333333333,
              "#9c179e"
             ],
             [
              0.4444444444444444,
              "#bd3786"
             ],
             [
              0.5555555555555556,
              "#d8576b"
             ],
             [
              0.6666666666666666,
              "#ed7953"
             ],
             [
              0.7777777777777778,
              "#fb9f3a"
             ],
             [
              0.8888888888888888,
              "#fdca26"
             ],
             [
              1,
              "#f0f921"
             ]
            ],
            "type": "surface"
           }
          ],
          "table": [
           {
            "cells": {
             "fill": {
              "color": "#EBF0F8"
             },
             "line": {
              "color": "white"
             }
            },
            "header": {
             "fill": {
              "color": "#C8D4E3"
             },
             "line": {
              "color": "white"
             }
            },
            "type": "table"
           }
          ]
         },
         "layout": {
          "annotationdefaults": {
           "arrowcolor": "#2a3f5f",
           "arrowhead": 0,
           "arrowwidth": 1
          },
          "autotypenumbers": "strict",
          "coloraxis": {
           "colorbar": {
            "outlinewidth": 0,
            "ticks": ""
           }
          },
          "colorscale": {
           "diverging": [
            [
             0,
             "#8e0152"
            ],
            [
             0.1,
             "#c51b7d"
            ],
            [
             0.2,
             "#de77ae"
            ],
            [
             0.3,
             "#f1b6da"
            ],
            [
             0.4,
             "#fde0ef"
            ],
            [
             0.5,
             "#f7f7f7"
            ],
            [
             0.6,
             "#e6f5d0"
            ],
            [
             0.7,
             "#b8e186"
            ],
            [
             0.8,
             "#7fbc41"
            ],
            [
             0.9,
             "#4d9221"
            ],
            [
             1,
             "#276419"
            ]
           ],
           "sequential": [
            [
             0,
             "#0d0887"
            ],
            [
             0.1111111111111111,
             "#46039f"
            ],
            [
             0.2222222222222222,
             "#7201a8"
            ],
            [
             0.3333333333333333,
             "#9c179e"
            ],
            [
             0.4444444444444444,
             "#bd3786"
            ],
            [
             0.5555555555555556,
             "#d8576b"
            ],
            [
             0.6666666666666666,
             "#ed7953"
            ],
            [
             0.7777777777777778,
             "#fb9f3a"
            ],
            [
             0.8888888888888888,
             "#fdca26"
            ],
            [
             1,
             "#f0f921"
            ]
           ],
           "sequentialminus": [
            [
             0,
             "#0d0887"
            ],
            [
             0.1111111111111111,
             "#46039f"
            ],
            [
             0.2222222222222222,
             "#7201a8"
            ],
            [
             0.3333333333333333,
             "#9c179e"
            ],
            [
             0.4444444444444444,
             "#bd3786"
            ],
            [
             0.5555555555555556,
             "#d8576b"
            ],
            [
             0.6666666666666666,
             "#ed7953"
            ],
            [
             0.7777777777777778,
             "#fb9f3a"
            ],
            [
             0.8888888888888888,
             "#fdca26"
            ],
            [
             1,
             "#f0f921"
            ]
           ]
          },
          "colorway": [
           "#636efa",
           "#EF553B",
           "#00cc96",
           "#ab63fa",
           "#FFA15A",
           "#19d3f3",
           "#FF6692",
           "#B6E880",
           "#FF97FF",
           "#FECB52"
          ],
          "font": {
           "color": "#2a3f5f"
          },
          "geo": {
           "bgcolor": "white",
           "lakecolor": "white",
           "landcolor": "#E5ECF6",
           "showlakes": true,
           "showland": true,
           "subunitcolor": "white"
          },
          "hoverlabel": {
           "align": "left"
          },
          "hovermode": "closest",
          "mapbox": {
           "style": "light"
          },
          "paper_bgcolor": "white",
          "plot_bgcolor": "#E5ECF6",
          "polar": {
           "angularaxis": {
            "gridcolor": "white",
            "linecolor": "white",
            "ticks": ""
           },
           "bgcolor": "#E5ECF6",
           "radialaxis": {
            "gridcolor": "white",
            "linecolor": "white",
            "ticks": ""
           }
          },
          "scene": {
           "xaxis": {
            "backgroundcolor": "#E5ECF6",
            "gridcolor": "white",
            "gridwidth": 2,
            "linecolor": "white",
            "showbackground": true,
            "ticks": "",
            "zerolinecolor": "white"
           },
           "yaxis": {
            "backgroundcolor": "#E5ECF6",
            "gridcolor": "white",
            "gridwidth": 2,
            "linecolor": "white",
            "showbackground": true,
            "ticks": "",
            "zerolinecolor": "white"
           },
           "zaxis": {
            "backgroundcolor": "#E5ECF6",
            "gridcolor": "white",
            "gridwidth": 2,
            "linecolor": "white",
            "showbackground": true,
            "ticks": "",
            "zerolinecolor": "white"
           }
          },
          "shapedefaults": {
           "line": {
            "color": "#2a3f5f"
           }
          },
          "ternary": {
           "aaxis": {
            "gridcolor": "white",
            "linecolor": "white",
            "ticks": ""
           },
           "baxis": {
            "gridcolor": "white",
            "linecolor": "white",
            "ticks": ""
           },
           "bgcolor": "#E5ECF6",
           "caxis": {
            "gridcolor": "white",
            "linecolor": "white",
            "ticks": ""
           }
          },
          "title": {
           "x": 0.05
          },
          "xaxis": {
           "automargin": true,
           "gridcolor": "white",
           "linecolor": "white",
           "ticks": "",
           "title": {
            "standoff": 15
           },
           "zerolinecolor": "white",
           "zerolinewidth": 2
          },
          "yaxis": {
           "automargin": true,
           "gridcolor": "white",
           "linecolor": "white",
           "ticks": "",
           "title": {
            "standoff": 15
           },
           "zerolinecolor": "white",
           "zerolinewidth": 2
          }
         }
        },
        "title": {
         "text": "Total Damage Dealt by Character"
        },
        "xaxis": {
         "anchor": "y",
         "domain": [
          0,
          1
         ],
         "title": {
          "text": "Character"
         }
        },
        "yaxis": {
         "anchor": "x",
         "domain": [
          0,
          1
         ],
         "title": {
          "text": "Total Damage"
         }
        }
       }
      }
     },
     "metadata": {},
     "output_type": "display_data"
    }
   ],
   "source": [
    "# Filter to main characters only\n",
    "main_characters = [\"Beau\", \"Fjord\", \"Jester\", \"Veth\", \"Caleb\", \"Yasha\", \"Caduceus\", \"Molly\", \"Kingsley\"]\n",
    "filtered_df = df[df[\"Character\"].isin(main_characters)]\n",
    "\n",
    "# Group by character and sum total damage\n",
    "damage_data = filtered_df.groupby(\"Character\")[\"Damage\"].sum().reset_index()\n",
    "damage_data = damage_data.sort_values(\"Damage\", ascending=False)\n",
    "\n",
    "# Create bar chart\n",
    "fig = px.bar(\n",
    "    damage_data,\n",
    "    x=\"Character\",\n",
    "    y=\"Damage\",\n",
    "    title=\"Total Damage Dealt by Character\",\n",
    "    text=\"Damage\",\n",
    "    color=\"Damage\",\n",
    "    color_continuous_scale=\"Reds\"\n",
    ")\n",
    "\n",
    "fig.update_layout(\n",
    "    xaxis_title=\"Character\",\n",
    "    yaxis_title=\"Total Damage\",\n",
    "    height=500\n",
    ")\n",
    "\n",
    "fig.update_traces(textposition=\"outside\")\n",
    "\n",
    "fig.show()"
   ]
  },
  {
   "cell_type": "markdown",
   "metadata": {},
   "source": [
    "#### Insight: Who Did the Most Damage?\n",
    "\n",
    "This chart clearly crowns **Beau** as the campaign's heavy hitter, dealing the highest total damage out of all the Mighty Nein. Her role as a frontline fighter and agile striker is reflected in her consistent combat presence and output. Which makes sense from the amount of rolls she did on the campagin.\n",
    "\n",
    "Characters like **Fjord** and **Veth** also contributed significantly to the party’s overall damage, especially in combat-heavy arcs. Meanwhile, characters such as **Caduceus** and **Jester** took on more supportive roles, focusing on healing, spellcasting utility, or general chaos.\n",
    "\n",
    "While damage doesn’t tell the full story of a character’s impact, it does spotlight the party’s combat MVPs, and Beau absolutely earned the title.\n",
    "***"
   ]
  },
  {
   "cell_type": "markdown",
   "metadata": {},
   "source": [
    "## Total Kills by Character\n",
    "\n",
    "This chart shows the total number of confirmed kills made by each member of the Mighty Nein. While the number of rolls reflects activity, and damage reflects impact, the kill count reveals who landed the final blow most often.\n",
    "\n",
    "Keep in mind that not all combat encounters resulted in a logged kill, and support roles or spellcasters may contribute significantly to combat without dealing the finishing blow.\n"
   ]
  },
  {
   "cell_type": "code",
   "execution_count": 56,
   "metadata": {},
   "outputs": [
    {
     "data": {
      "application/vnd.plotly.v1+json": {
       "config": {
        "plotlyServerURL": "https://plot.ly"
       },
       "data": [
        {
         "hovertemplate": "Character=%{x}<br>Kills=%{marker.color}<extra></extra>",
         "legendgroup": "",
         "marker": {
          "color": {
           "bdata": "Ozo1MCkmFxU=",
           "dtype": "i1"
          },
          "coloraxis": "coloraxis",
          "pattern": {
           "shape": ""
          }
         },
         "name": "",
         "orientation": "v",
         "showlegend": false,
         "text": {
          "bdata": "AAAAAACATUAAAAAAAABNQAAAAAAAgEpAAAAAAAAASEAAAAAAAIBEQAAAAAAAAENAAAAAAAAAN0AAAAAAAAA1QA==",
          "dtype": "f8"
         },
         "textposition": "outside",
         "type": "bar",
         "x": [
          "Caleb",
          "Veth",
          "Fjord",
          "Beau",
          "Yasha",
          "Jester",
          "Caduceus",
          "Molly"
         ],
         "xaxis": "x",
         "y": {
          "bdata": "Ozo1MCkmFxU=",
          "dtype": "i1"
         },
         "yaxis": "y"
        }
       ],
       "layout": {
        "barmode": "relative",
        "coloraxis": {
         "colorbar": {
          "title": {
           "text": "Kills"
          }
         },
         "colorscale": [
          [
           0,
           "rgb(252,251,253)"
          ],
          [
           0.125,
           "rgb(239,237,245)"
          ],
          [
           0.25,
           "rgb(218,218,235)"
          ],
          [
           0.375,
           "rgb(188,189,220)"
          ],
          [
           0.5,
           "rgb(158,154,200)"
          ],
          [
           0.625,
           "rgb(128,125,186)"
          ],
          [
           0.75,
           "rgb(106,81,163)"
          ],
          [
           0.875,
           "rgb(84,39,143)"
          ],
          [
           1,
           "rgb(63,0,125)"
          ]
         ]
        },
        "height": 500,
        "legend": {
         "tracegroupgap": 0
        },
        "template": {
         "data": {
          "bar": [
           {
            "error_x": {
             "color": "#2a3f5f"
            },
            "error_y": {
             "color": "#2a3f5f"
            },
            "marker": {
             "line": {
              "color": "#E5ECF6",
              "width": 0.5
             },
             "pattern": {
              "fillmode": "overlay",
              "size": 10,
              "solidity": 0.2
             }
            },
            "type": "bar"
           }
          ],
          "barpolar": [
           {
            "marker": {
             "line": {
              "color": "#E5ECF6",
              "width": 0.5
             },
             "pattern": {
              "fillmode": "overlay",
              "size": 10,
              "solidity": 0.2
             }
            },
            "type": "barpolar"
           }
          ],
          "carpet": [
           {
            "aaxis": {
             "endlinecolor": "#2a3f5f",
             "gridcolor": "white",
             "linecolor": "white",
             "minorgridcolor": "white",
             "startlinecolor": "#2a3f5f"
            },
            "baxis": {
             "endlinecolor": "#2a3f5f",
             "gridcolor": "white",
             "linecolor": "white",
             "minorgridcolor": "white",
             "startlinecolor": "#2a3f5f"
            },
            "type": "carpet"
           }
          ],
          "choropleth": [
           {
            "colorbar": {
             "outlinewidth": 0,
             "ticks": ""
            },
            "type": "choropleth"
           }
          ],
          "contour": [
           {
            "colorbar": {
             "outlinewidth": 0,
             "ticks": ""
            },
            "colorscale": [
             [
              0,
              "#0d0887"
             ],
             [
              0.1111111111111111,
              "#46039f"
             ],
             [
              0.2222222222222222,
              "#7201a8"
             ],
             [
              0.3333333333333333,
              "#9c179e"
             ],
             [
              0.4444444444444444,
              "#bd3786"
             ],
             [
              0.5555555555555556,
              "#d8576b"
             ],
             [
              0.6666666666666666,
              "#ed7953"
             ],
             [
              0.7777777777777778,
              "#fb9f3a"
             ],
             [
              0.8888888888888888,
              "#fdca26"
             ],
             [
              1,
              "#f0f921"
             ]
            ],
            "type": "contour"
           }
          ],
          "contourcarpet": [
           {
            "colorbar": {
             "outlinewidth": 0,
             "ticks": ""
            },
            "type": "contourcarpet"
           }
          ],
          "heatmap": [
           {
            "colorbar": {
             "outlinewidth": 0,
             "ticks": ""
            },
            "colorscale": [
             [
              0,
              "#0d0887"
             ],
             [
              0.1111111111111111,
              "#46039f"
             ],
             [
              0.2222222222222222,
              "#7201a8"
             ],
             [
              0.3333333333333333,
              "#9c179e"
             ],
             [
              0.4444444444444444,
              "#bd3786"
             ],
             [
              0.5555555555555556,
              "#d8576b"
             ],
             [
              0.6666666666666666,
              "#ed7953"
             ],
             [
              0.7777777777777778,
              "#fb9f3a"
             ],
             [
              0.8888888888888888,
              "#fdca26"
             ],
             [
              1,
              "#f0f921"
             ]
            ],
            "type": "heatmap"
           }
          ],
          "histogram": [
           {
            "marker": {
             "pattern": {
              "fillmode": "overlay",
              "size": 10,
              "solidity": 0.2
             }
            },
            "type": "histogram"
           }
          ],
          "histogram2d": [
           {
            "colorbar": {
             "outlinewidth": 0,
             "ticks": ""
            },
            "colorscale": [
             [
              0,
              "#0d0887"
             ],
             [
              0.1111111111111111,
              "#46039f"
             ],
             [
              0.2222222222222222,
              "#7201a8"
             ],
             [
              0.3333333333333333,
              "#9c179e"
             ],
             [
              0.4444444444444444,
              "#bd3786"
             ],
             [
              0.5555555555555556,
              "#d8576b"
             ],
             [
              0.6666666666666666,
              "#ed7953"
             ],
             [
              0.7777777777777778,
              "#fb9f3a"
             ],
             [
              0.8888888888888888,
              "#fdca26"
             ],
             [
              1,
              "#f0f921"
             ]
            ],
            "type": "histogram2d"
           }
          ],
          "histogram2dcontour": [
           {
            "colorbar": {
             "outlinewidth": 0,
             "ticks": ""
            },
            "colorscale": [
             [
              0,
              "#0d0887"
             ],
             [
              0.1111111111111111,
              "#46039f"
             ],
             [
              0.2222222222222222,
              "#7201a8"
             ],
             [
              0.3333333333333333,
              "#9c179e"
             ],
             [
              0.4444444444444444,
              "#bd3786"
             ],
             [
              0.5555555555555556,
              "#d8576b"
             ],
             [
              0.6666666666666666,
              "#ed7953"
             ],
             [
              0.7777777777777778,
              "#fb9f3a"
             ],
             [
              0.8888888888888888,
              "#fdca26"
             ],
             [
              1,
              "#f0f921"
             ]
            ],
            "type": "histogram2dcontour"
           }
          ],
          "mesh3d": [
           {
            "colorbar": {
             "outlinewidth": 0,
             "ticks": ""
            },
            "type": "mesh3d"
           }
          ],
          "parcoords": [
           {
            "line": {
             "colorbar": {
              "outlinewidth": 0,
              "ticks": ""
             }
            },
            "type": "parcoords"
           }
          ],
          "pie": [
           {
            "automargin": true,
            "type": "pie"
           }
          ],
          "scatter": [
           {
            "fillpattern": {
             "fillmode": "overlay",
             "size": 10,
             "solidity": 0.2
            },
            "type": "scatter"
           }
          ],
          "scatter3d": [
           {
            "line": {
             "colorbar": {
              "outlinewidth": 0,
              "ticks": ""
             }
            },
            "marker": {
             "colorbar": {
              "outlinewidth": 0,
              "ticks": ""
             }
            },
            "type": "scatter3d"
           }
          ],
          "scattercarpet": [
           {
            "marker": {
             "colorbar": {
              "outlinewidth": 0,
              "ticks": ""
             }
            },
            "type": "scattercarpet"
           }
          ],
          "scattergeo": [
           {
            "marker": {
             "colorbar": {
              "outlinewidth": 0,
              "ticks": ""
             }
            },
            "type": "scattergeo"
           }
          ],
          "scattergl": [
           {
            "marker": {
             "colorbar": {
              "outlinewidth": 0,
              "ticks": ""
             }
            },
            "type": "scattergl"
           }
          ],
          "scattermap": [
           {
            "marker": {
             "colorbar": {
              "outlinewidth": 0,
              "ticks": ""
             }
            },
            "type": "scattermap"
           }
          ],
          "scattermapbox": [
           {
            "marker": {
             "colorbar": {
              "outlinewidth": 0,
              "ticks": ""
             }
            },
            "type": "scattermapbox"
           }
          ],
          "scatterpolar": [
           {
            "marker": {
             "colorbar": {
              "outlinewidth": 0,
              "ticks": ""
             }
            },
            "type": "scatterpolar"
           }
          ],
          "scatterpolargl": [
           {
            "marker": {
             "colorbar": {
              "outlinewidth": 0,
              "ticks": ""
             }
            },
            "type": "scatterpolargl"
           }
          ],
          "scatterternary": [
           {
            "marker": {
             "colorbar": {
              "outlinewidth": 0,
              "ticks": ""
             }
            },
            "type": "scatterternary"
           }
          ],
          "surface": [
           {
            "colorbar": {
             "outlinewidth": 0,
             "ticks": ""
            },
            "colorscale": [
             [
              0,
              "#0d0887"
             ],
             [
              0.1111111111111111,
              "#46039f"
             ],
             [
              0.2222222222222222,
              "#7201a8"
             ],
             [
              0.3333333333333333,
              "#9c179e"
             ],
             [
              0.4444444444444444,
              "#bd3786"
             ],
             [
              0.5555555555555556,
              "#d8576b"
             ],
             [
              0.6666666666666666,
              "#ed7953"
             ],
             [
              0.7777777777777778,
              "#fb9f3a"
             ],
             [
              0.8888888888888888,
              "#fdca26"
             ],
             [
              1,
              "#f0f921"
             ]
            ],
            "type": "surface"
           }
          ],
          "table": [
           {
            "cells": {
             "fill": {
              "color": "#EBF0F8"
             },
             "line": {
              "color": "white"
             }
            },
            "header": {
             "fill": {
              "color": "#C8D4E3"
             },
             "line": {
              "color": "white"
             }
            },
            "type": "table"
           }
          ]
         },
         "layout": {
          "annotationdefaults": {
           "arrowcolor": "#2a3f5f",
           "arrowhead": 0,
           "arrowwidth": 1
          },
          "autotypenumbers": "strict",
          "coloraxis": {
           "colorbar": {
            "outlinewidth": 0,
            "ticks": ""
           }
          },
          "colorscale": {
           "diverging": [
            [
             0,
             "#8e0152"
            ],
            [
             0.1,
             "#c51b7d"
            ],
            [
             0.2,
             "#de77ae"
            ],
            [
             0.3,
             "#f1b6da"
            ],
            [
             0.4,
             "#fde0ef"
            ],
            [
             0.5,
             "#f7f7f7"
            ],
            [
             0.6,
             "#e6f5d0"
            ],
            [
             0.7,
             "#b8e186"
            ],
            [
             0.8,
             "#7fbc41"
            ],
            [
             0.9,
             "#4d9221"
            ],
            [
             1,
             "#276419"
            ]
           ],
           "sequential": [
            [
             0,
             "#0d0887"
            ],
            [
             0.1111111111111111,
             "#46039f"
            ],
            [
             0.2222222222222222,
             "#7201a8"
            ],
            [
             0.3333333333333333,
             "#9c179e"
            ],
            [
             0.4444444444444444,
             "#bd3786"
            ],
            [
             0.5555555555555556,
             "#d8576b"
            ],
            [
             0.6666666666666666,
             "#ed7953"
            ],
            [
             0.7777777777777778,
             "#fb9f3a"
            ],
            [
             0.8888888888888888,
             "#fdca26"
            ],
            [
             1,
             "#f0f921"
            ]
           ],
           "sequentialminus": [
            [
             0,
             "#0d0887"
            ],
            [
             0.1111111111111111,
             "#46039f"
            ],
            [
             0.2222222222222222,
             "#7201a8"
            ],
            [
             0.3333333333333333,
             "#9c179e"
            ],
            [
             0.4444444444444444,
             "#bd3786"
            ],
            [
             0.5555555555555556,
             "#d8576b"
            ],
            [
             0.6666666666666666,
             "#ed7953"
            ],
            [
             0.7777777777777778,
             "#fb9f3a"
            ],
            [
             0.8888888888888888,
             "#fdca26"
            ],
            [
             1,
             "#f0f921"
            ]
           ]
          },
          "colorway": [
           "#636efa",
           "#EF553B",
           "#00cc96",
           "#ab63fa",
           "#FFA15A",
           "#19d3f3",
           "#FF6692",
           "#B6E880",
           "#FF97FF",
           "#FECB52"
          ],
          "font": {
           "color": "#2a3f5f"
          },
          "geo": {
           "bgcolor": "white",
           "lakecolor": "white",
           "landcolor": "#E5ECF6",
           "showlakes": true,
           "showland": true,
           "subunitcolor": "white"
          },
          "hoverlabel": {
           "align": "left"
          },
          "hovermode": "closest",
          "mapbox": {
           "style": "light"
          },
          "paper_bgcolor": "white",
          "plot_bgcolor": "#E5ECF6",
          "polar": {
           "angularaxis": {
            "gridcolor": "white",
            "linecolor": "white",
            "ticks": ""
           },
           "bgcolor": "#E5ECF6",
           "radialaxis": {
            "gridcolor": "white",
            "linecolor": "white",
            "ticks": ""
           }
          },
          "scene": {
           "xaxis": {
            "backgroundcolor": "#E5ECF6",
            "gridcolor": "white",
            "gridwidth": 2,
            "linecolor": "white",
            "showbackground": true,
            "ticks": "",
            "zerolinecolor": "white"
           },
           "yaxis": {
            "backgroundcolor": "#E5ECF6",
            "gridcolor": "white",
            "gridwidth": 2,
            "linecolor": "white",
            "showbackground": true,
            "ticks": "",
            "zerolinecolor": "white"
           },
           "zaxis": {
            "backgroundcolor": "#E5ECF6",
            "gridcolor": "white",
            "gridwidth": 2,
            "linecolor": "white",
            "showbackground": true,
            "ticks": "",
            "zerolinecolor": "white"
           }
          },
          "shapedefaults": {
           "line": {
            "color": "#2a3f5f"
           }
          },
          "ternary": {
           "aaxis": {
            "gridcolor": "white",
            "linecolor": "white",
            "ticks": ""
           },
           "baxis": {
            "gridcolor": "white",
            "linecolor": "white",
            "ticks": ""
           },
           "bgcolor": "#E5ECF6",
           "caxis": {
            "gridcolor": "white",
            "linecolor": "white",
            "ticks": ""
           }
          },
          "title": {
           "x": 0.05
          },
          "xaxis": {
           "automargin": true,
           "gridcolor": "white",
           "linecolor": "white",
           "ticks": "",
           "title": {
            "standoff": 15
           },
           "zerolinecolor": "white",
           "zerolinewidth": 2
          },
          "yaxis": {
           "automargin": true,
           "gridcolor": "white",
           "linecolor": "white",
           "ticks": "",
           "title": {
            "standoff": 15
           },
           "zerolinecolor": "white",
           "zerolinewidth": 2
          }
         }
        },
        "title": {
         "text": "💀 Total Kills by Character"
        },
        "xaxis": {
         "anchor": "y",
         "domain": [
          0,
          1
         ],
         "title": {
          "text": "Character"
         }
        },
        "yaxis": {
         "anchor": "x",
         "domain": [
          0,
          1
         ],
         "title": {
          "text": "Total Kills"
         }
        }
       }
      }
     },
     "metadata": {},
     "output_type": "display_data"
    }
   ],
   "source": [
    "# Filter to main characters\n",
    "main_characters = [\"Beau\", \"Fjord\", \"Jester\", \"Veth\", \"Caleb\", \"Yasha\", \"Caduceus\", \"Molly\", \"Kingsley\"]\n",
    "filtered_df = df[df[\"Character\"].isin(main_characters)]\n",
    "\n",
    "# Group by character and sum kills\n",
    "kill_data = filtered_df.groupby(\"Character\")[\"Kills\"].sum().reset_index()\n",
    "kill_data = kill_data.sort_values(\"Kills\", ascending=False)\n",
    "\n",
    "# Create bar chart\n",
    "fig = px.bar(\n",
    "    kill_data,\n",
    "    x=\"Character\",\n",
    "    y=\"Kills\",\n",
    "    text=\"Kills\",\n",
    "    title=\"💀 Total Kills by Character\",\n",
    "    color=\"Kills\",\n",
    "    color_continuous_scale=\"Purples\"\n",
    ")\n",
    "\n",
    "fig.update_layout(\n",
    "    xaxis_title=\"Character\",\n",
    "    yaxis_title=\"Total Kills\",\n",
    "    height=500\n",
    ")\n",
    "\n",
    "fig.update_traces(textposition=\"outside\")\n",
    "\n",
    "fig.show()"
   ]
  },
  {
   "cell_type": "markdown",
   "metadata": {},
   "source": [
    "#### Insight: Who Took the Most Lives?\n",
    "\n",
    "Surprisingly, the top two characters in terms of confirmed kills are **Caleb** and **Veth**. While Beau was frequently on the frontlines, Caleb’s powerful area-of-effect spells and Veth’s lethal precision from range likely secured many final blows.\n",
    "\n",
    "- **Caleb’s** high kill count aligns with his destructive spellcasting style, especially later in the campaign when he had access to powerful magic like Fireball and Wall of Fire.\n",
    "- **Veth**, with her rogue skills and sharpshooter finesse, consistently delivered surgical strikes that finished off enemies.\n",
    "- **Beau**, despite her high activity and damage, may have often softened enemies up but didn’t land the final blow as frequently.\n",
    "- Support-focused characters like **Caduceus** and **Jester** have much lower kill counts—consistent with their roles in healing, crowd control, and chaotic antics.\n",
    "***"
   ]
  },
  {
   "cell_type": "markdown",
   "metadata": {},
   "source": [
    "### Roll Frequency Across Episodes\n",
    "\n",
    "This line chart shows the number of dice rolls made in each episode of Campaign 2. Spikes often correlate with intense combat sequences or chaotic moments, while dips may indicate slower, roleplay-focused episodes.\n",
    "\n",
    "Tracking the frequency of rolls over time helps us understand the campaign’s pacing and identify action-packed arcs.\n"
   ]
  },
  {
   "cell_type": "code",
   "execution_count": 57,
   "metadata": {},
   "outputs": [
    {
     "data": {
      "application/vnd.plotly.v1+json": {
       "config": {
        "plotlyServerURL": "https://plot.ly"
       },
       "data": [
        {
         "line": {
          "color": "royalblue",
          "width": 2
         },
         "marker": {
          "size": 6
         },
         "mode": "lines+markers",
         "name": "Roll Count",
         "type": "scatter",
         "x": {
          "bdata": "AQACAAMABAAFAAYABwAIAAkACgALAAwADQAOAA8AEAARABIAEwAdAB4AHwAgACEAIgAjACQAJQAmACcAKAApACoAKwAsAC0ALgAvADAAMQAyADMANAA1ADYANwA4ADkAOgA7ADwAPQA+AD8AQABBAEIAQwBEAEUARgBHAEgASQBKAEsATABNAE4ATwBQAFEAUgBTAFQAVQBWAFcAWABZAFoAWwBcAF0AXgBfAGAAYQBiAGMAZABlAGYAZwBoAGkAagBrAGwAbQBuAG8AcABxAHIAcwB0AHUAdgB3AHgAeQB6AHsAfAB9AH4AfwCAAIEAggCDAIQAhQCGAIcAiACJAIoAiwCMAI0A",
          "dtype": "i2"
         },
         "y": {
          "bdata": "UABVAKQAOwB8AJUArwBCAB0AbwA2AJEAUgAjAKYAkwDCAEsAiwDTABYAPQBeABwAtAByAGwAHQC5APEAdAA5AE8AaQDTALoAfgClACEAIQCnALkAdABSAFsAEgEZABQAJgCUAJsAHwA8AHwAgwCgAJ0A8AD8AAoBHgAVACIAkAAnAIoAZQAcAFEAdQBuAKEA9QAxABoAcwD+AGwAJgBsABoADAAdAFkAlwCRAIIAGACQACUANABBAIIAQwCHAJkASQBcABoAFQAVAA4AQwDiABoAcwCMAFgAWACKAIAASAAdANIAZgAbAB8AVQAwAG0AEQCTAIcAnQCxAIwAegBWAEwAkgDxAEwA",
          "dtype": "i2"
         }
        },
        {
         "line": {
          "color": "firebrick",
          "dash": "dot",
          "width": 3
         },
         "mode": "lines",
         "name": "Trend Line",
         "type": "scatter",
         "x": {
          "bdata": "AAAAAAAA8D8AAAAAAAAAQAAAAAAAAAhAAAAAAAAAEEAAAAAAAAAUQAAAAAAAABhAAAAAAAAAHEAAAAAAAAAgQAAAAAAAACJAAAAAAAAAJEAAAAAAAAAmQAAAAAAAAChAAAAAAAAAKkAAAAAAAAAsQAAAAAAAAC5AAAAAAAAAMEAAAAAAAAAxQAAAAAAAADJAAAAAAAAAM0AAAAAAAAA9QAAAAAAAAD5AAAAAAAAAP0AAAAAAAABAQAAAAAAAgEBAAAAAAAAAQUAAAAAAAIBBQAAAAAAAAEJAAAAAAACAQkAAAAAAAABDQAAAAAAAgENAAAAAAAAAREAAAAAAAIBEQAAAAAAAAEVAAAAAAACARUAAAAAAAABGQAAAAAAAgEZAAAAAAAAAR0AAAAAAAIBHQAAAAAAAAEhAAAAAAACASEAAAAAAAABJQAAAAAAAgElAAAAAAAAASkAAAAAAAIBKQAAAAAAAAEtAAAAAAACAS0AAAAAAAABMQAAAAAAAgExAAAAAAAAATUAAAAAAAIBNQAAAAAAAAE5AAAAAAACATkAAAAAAAABPQAAAAAAAgE9AAAAAAAAAUEAAAAAAAEBQQAAAAAAAgFBAAAAAAADAUEAAAAAAAABRQAAAAAAAQFFAAAAAAACAUUAAAAAAAMBRQAAAAAAAAFJAAAAAAABAUkAAAAAAAIBSQAAAAAAAwFJAAAAAAAAAU0AAAAAAAEBTQAAAAAAAgFNAAAAAAADAU0AAAAAAAABUQAAAAAAAQFRAAAAAAACAVEAAAAAAAMBUQAAAAAAAAFVAAAAAAABAVUAAAAAAAIBVQAAAAAAAwFVAAAAAAAAAVkAAAAAAAEBWQAAAAAAAgFZAAAAAAADAVkAAAAAAAABXQAAAAAAAQFdAAAAAAACAV0AAAAAAAMBXQAAAAAAAAFhAAAAAAABAWEAAAAAAAIBYQAAAAAAAwFhAAAAAAAAAWUAAAAAAAEBZQAAAAAAAgFlAAAAAAADAWUAAAAAAAABaQAAAAAAAQFpAAAAAAACAWkAAAAAAAMBaQAAAAAAAAFtAAAAAAABAW0AAAAAAAIBbQAAAAAAAwFtAAAAAAAAAXEAAAAAAAEBcQAAAAAAAgFxAAAAAAADAXEAAAAAAAABdQAAAAAAAQF1AAAAAAACAXUAAAAAAAMBdQAAAAAAAAF5AAAAAAABAXkAAAAAAAIBeQAAAAAAAwF5AAAAAAAAAX0AAAAAAAEBfQAAAAAAAgF9AAAAAAADAX0AAAAAAAABgQAAAAAAAIGBAAAAAAABAYEAAAAAAAGBgQAAAAAAAgGBAAAAAAACgYEAAAAAAAMBgQAAAAAAA4GBAAAAAAAAAYUAAAAAAACBhQAAAAAAAQGFAAAAAAABgYUAAAAAAAIBhQAAAAAAAoGFA",
          "dtype": "f8"
         },
         "y": {
          "bdata": "zEWhRvi1WkCRSjLjpYxaQIRuh3hyXlpAhLg4KtUwWkBMWYWotQdaQAsCJexB6VlA+emhWWXbWUCA2qS4Mt5ZQMWHr3JG31lAIHKqUDqkWUB49/Al0YNaQIoWu4jiQFtAIhG7e3HzW0DxIoClzKxcQPWDUk/gdV1ABzVJydWEXkB0OEH05OlfQJeVDMe6ZGBAmc4WdkYdYEBto1rSXk5ZQO9tgTK0ZFhAdpRYg+8zWEBM1HU9epdYQDMQ8GovNVlAtbv3uMLRWUDCVGCJTWxaQNePuGxkE1tAeS4gQv7lW0B2RSIk+xtdQKang63tRl5Axz91TrldX0DNrc8n2gZgQOAd7dIyE2BAx6O3STzyX0Dl2UAohalfQKy3wntqbV9AsocgY/VKX0Dku2e+mFtfQG+Fq1V3eV9AkJXiJikJX0ATnjLZ579dQCWmVPKd8FtATE7di25UWkDFW1ELgV5ZQP3ykpCXz1hAYh53xy9QWEC8XhyB5cVXQJfZuAZSJldAdT7Oe9G9VkBhliuVlvxWQBrleE/3IFhAOB6pdcszWkB+hLh1bQ9dQCCou5VT/19ALNMGRZMFYUCkNH5O1VlhQOhfJQd5L2FAJbBRkMDQYECquQ1CnoFgQB8vSXAIOWBAVoSItkBxX0Dtsk4JvM1dQKq+FatepltAwN/R/b1KWUC2IGVKP2VXQKPnYyt9qFZAPMG1WbYmV0BotwarjSxYQL3D4FhmF1lAGgpuUDvDWUBJ1PBpbERaQK2EeP5cnlpA5/AAWsbaWkDpND4kWcBaQCnrLQNEIVpAS0rWkP3iWEAGqxwsQkFXQMFL2bs+wVVAda9GEPbJVEDqFvG9aHpUQGuQic6KoFRAnMzDmubeVEDVHr0/Qs1UQP8G7+n5glRALspfraJjVEBIoda+0a5UQGxfmJQRSVVAJOoHmIgQVkCX+DF3F95WQM1O4cD/WVdAamLvNZBWV0BPjPoQb9lWQFGrzMZuFVZAPVfdQwQ3VUDQwgD8tEVUQKXn0WXsXVNAsVWYG+ulUkDIlpqe/hlSQHWXDnpfqVFAxdpmgGRlUUDH5brTXVBRQIj7h7KWcFFARfJE5xvpUUAMR87CEOpSQPuXuFwnUFRA3BHZh/LMVUDE902cI09XQLPGIx7XjFhA0WMdZksrWUCDuwzx0QdZQAyqAqacVlhAaQkY45doV0DAh7cHMnRWQChQf6yCbFVAbG16hVGnVEAkfrp/AFRUQMDA5gFHdVRAsQz6MNQeVUCv1DfxjkxWQCh4Z4pBvFdA5z9ye7sfWUDQF34LCmJaQJDm/HH3v1tAjlj1cPHBXEAgmT9LEctdQKhQKSGqyV5AWlrrPqyyX0AYQT9Uf0BgQEmrICQommBATW/QBGPoYEAk9vXdsi5hQIdGIHlGb2FA",
          "dtype": "f8"
         }
        }
       ],
       "layout": {
        "annotations": [
         {
          "arrowhead": 2,
          "ax": 0,
          "ay": -40,
          "showarrow": true,
          "text": "Ep 55",
          "x": 55,
          "y": 274
         },
         {
          "arrowhead": 2,
          "ax": 0,
          "ay": -40,
          "showarrow": true,
          "text": "Ep 69",
          "x": 69,
          "y": 266
         },
         {
          "arrowhead": 2,
          "ax": 0,
          "ay": -40,
          "showarrow": true,
          "text": "Ep 86",
          "x": 86,
          "y": 254
         }
        ],
        "height": 550,
        "hovermode": "x unified",
        "plot_bgcolor": "#f8f8f8",
        "template": {
         "data": {
          "bar": [
           {
            "error_x": {
             "color": "#2a3f5f"
            },
            "error_y": {
             "color": "#2a3f5f"
            },
            "marker": {
             "line": {
              "color": "#E5ECF6",
              "width": 0.5
             },
             "pattern": {
              "fillmode": "overlay",
              "size": 10,
              "solidity": 0.2
             }
            },
            "type": "bar"
           }
          ],
          "barpolar": [
           {
            "marker": {
             "line": {
              "color": "#E5ECF6",
              "width": 0.5
             },
             "pattern": {
              "fillmode": "overlay",
              "size": 10,
              "solidity": 0.2
             }
            },
            "type": "barpolar"
           }
          ],
          "carpet": [
           {
            "aaxis": {
             "endlinecolor": "#2a3f5f",
             "gridcolor": "white",
             "linecolor": "white",
             "minorgridcolor": "white",
             "startlinecolor": "#2a3f5f"
            },
            "baxis": {
             "endlinecolor": "#2a3f5f",
             "gridcolor": "white",
             "linecolor": "white",
             "minorgridcolor": "white",
             "startlinecolor": "#2a3f5f"
            },
            "type": "carpet"
           }
          ],
          "choropleth": [
           {
            "colorbar": {
             "outlinewidth": 0,
             "ticks": ""
            },
            "type": "choropleth"
           }
          ],
          "contour": [
           {
            "colorbar": {
             "outlinewidth": 0,
             "ticks": ""
            },
            "colorscale": [
             [
              0,
              "#0d0887"
             ],
             [
              0.1111111111111111,
              "#46039f"
             ],
             [
              0.2222222222222222,
              "#7201a8"
             ],
             [
              0.3333333333333333,
              "#9c179e"
             ],
             [
              0.4444444444444444,
              "#bd3786"
             ],
             [
              0.5555555555555556,
              "#d8576b"
             ],
             [
              0.6666666666666666,
              "#ed7953"
             ],
             [
              0.7777777777777778,
              "#fb9f3a"
             ],
             [
              0.8888888888888888,
              "#fdca26"
             ],
             [
              1,
              "#f0f921"
             ]
            ],
            "type": "contour"
           }
          ],
          "contourcarpet": [
           {
            "colorbar": {
             "outlinewidth": 0,
             "ticks": ""
            },
            "type": "contourcarpet"
           }
          ],
          "heatmap": [
           {
            "colorbar": {
             "outlinewidth": 0,
             "ticks": ""
            },
            "colorscale": [
             [
              0,
              "#0d0887"
             ],
             [
              0.1111111111111111,
              "#46039f"
             ],
             [
              0.2222222222222222,
              "#7201a8"
             ],
             [
              0.3333333333333333,
              "#9c179e"
             ],
             [
              0.4444444444444444,
              "#bd3786"
             ],
             [
              0.5555555555555556,
              "#d8576b"
             ],
             [
              0.6666666666666666,
              "#ed7953"
             ],
             [
              0.7777777777777778,
              "#fb9f3a"
             ],
             [
              0.8888888888888888,
              "#fdca26"
             ],
             [
              1,
              "#f0f921"
             ]
            ],
            "type": "heatmap"
           }
          ],
          "histogram": [
           {
            "marker": {
             "pattern": {
              "fillmode": "overlay",
              "size": 10,
              "solidity": 0.2
             }
            },
            "type": "histogram"
           }
          ],
          "histogram2d": [
           {
            "colorbar": {
             "outlinewidth": 0,
             "ticks": ""
            },
            "colorscale": [
             [
              0,
              "#0d0887"
             ],
             [
              0.1111111111111111,
              "#46039f"
             ],
             [
              0.2222222222222222,
              "#7201a8"
             ],
             [
              0.3333333333333333,
              "#9c179e"
             ],
             [
              0.4444444444444444,
              "#bd3786"
             ],
             [
              0.5555555555555556,
              "#d8576b"
             ],
             [
              0.6666666666666666,
              "#ed7953"
             ],
             [
              0.7777777777777778,
              "#fb9f3a"
             ],
             [
              0.8888888888888888,
              "#fdca26"
             ],
             [
              1,
              "#f0f921"
             ]
            ],
            "type": "histogram2d"
           }
          ],
          "histogram2dcontour": [
           {
            "colorbar": {
             "outlinewidth": 0,
             "ticks": ""
            },
            "colorscale": [
             [
              0,
              "#0d0887"
             ],
             [
              0.1111111111111111,
              "#46039f"
             ],
             [
              0.2222222222222222,
              "#7201a8"
             ],
             [
              0.3333333333333333,
              "#9c179e"
             ],
             [
              0.4444444444444444,
              "#bd3786"
             ],
             [
              0.5555555555555556,
              "#d8576b"
             ],
             [
              0.6666666666666666,
              "#ed7953"
             ],
             [
              0.7777777777777778,
              "#fb9f3a"
             ],
             [
              0.8888888888888888,
              "#fdca26"
             ],
             [
              1,
              "#f0f921"
             ]
            ],
            "type": "histogram2dcontour"
           }
          ],
          "mesh3d": [
           {
            "colorbar": {
             "outlinewidth": 0,
             "ticks": ""
            },
            "type": "mesh3d"
           }
          ],
          "parcoords": [
           {
            "line": {
             "colorbar": {
              "outlinewidth": 0,
              "ticks": ""
             }
            },
            "type": "parcoords"
           }
          ],
          "pie": [
           {
            "automargin": true,
            "type": "pie"
           }
          ],
          "scatter": [
           {
            "fillpattern": {
             "fillmode": "overlay",
             "size": 10,
             "solidity": 0.2
            },
            "type": "scatter"
           }
          ],
          "scatter3d": [
           {
            "line": {
             "colorbar": {
              "outlinewidth": 0,
              "ticks": ""
             }
            },
            "marker": {
             "colorbar": {
              "outlinewidth": 0,
              "ticks": ""
             }
            },
            "type": "scatter3d"
           }
          ],
          "scattercarpet": [
           {
            "marker": {
             "colorbar": {
              "outlinewidth": 0,
              "ticks": ""
             }
            },
            "type": "scattercarpet"
           }
          ],
          "scattergeo": [
           {
            "marker": {
             "colorbar": {
              "outlinewidth": 0,
              "ticks": ""
             }
            },
            "type": "scattergeo"
           }
          ],
          "scattergl": [
           {
            "marker": {
             "colorbar": {
              "outlinewidth": 0,
              "ticks": ""
             }
            },
            "type": "scattergl"
           }
          ],
          "scattermap": [
           {
            "marker": {
             "colorbar": {
              "outlinewidth": 0,
              "ticks": ""
             }
            },
            "type": "scattermap"
           }
          ],
          "scattermapbox": [
           {
            "marker": {
             "colorbar": {
              "outlinewidth": 0,
              "ticks": ""
             }
            },
            "type": "scattermapbox"
           }
          ],
          "scatterpolar": [
           {
            "marker": {
             "colorbar": {
              "outlinewidth": 0,
              "ticks": ""
             }
            },
            "type": "scatterpolar"
           }
          ],
          "scatterpolargl": [
           {
            "marker": {
             "colorbar": {
              "outlinewidth": 0,
              "ticks": ""
             }
            },
            "type": "scatterpolargl"
           }
          ],
          "scatterternary": [
           {
            "marker": {
             "colorbar": {
              "outlinewidth": 0,
              "ticks": ""
             }
            },
            "type": "scatterternary"
           }
          ],
          "surface": [
           {
            "colorbar": {
             "outlinewidth": 0,
             "ticks": ""
            },
            "colorscale": [
             [
              0,
              "#0d0887"
             ],
             [
              0.1111111111111111,
              "#46039f"
             ],
             [
              0.2222222222222222,
              "#7201a8"
             ],
             [
              0.3333333333333333,
              "#9c179e"
             ],
             [
              0.4444444444444444,
              "#bd3786"
             ],
             [
              0.5555555555555556,
              "#d8576b"
             ],
             [
              0.6666666666666666,
              "#ed7953"
             ],
             [
              0.7777777777777778,
              "#fb9f3a"
             ],
             [
              0.8888888888888888,
              "#fdca26"
             ],
             [
              1,
              "#f0f921"
             ]
            ],
            "type": "surface"
           }
          ],
          "table": [
           {
            "cells": {
             "fill": {
              "color": "#EBF0F8"
             },
             "line": {
              "color": "white"
             }
            },
            "header": {
             "fill": {
              "color": "#C8D4E3"
             },
             "line": {
              "color": "white"
             }
            },
            "type": "table"
           }
          ]
         },
         "layout": {
          "annotationdefaults": {
           "arrowcolor": "#2a3f5f",
           "arrowhead": 0,
           "arrowwidth": 1
          },
          "autotypenumbers": "strict",
          "coloraxis": {
           "colorbar": {
            "outlinewidth": 0,
            "ticks": ""
           }
          },
          "colorscale": {
           "diverging": [
            [
             0,
             "#8e0152"
            ],
            [
             0.1,
             "#c51b7d"
            ],
            [
             0.2,
             "#de77ae"
            ],
            [
             0.3,
             "#f1b6da"
            ],
            [
             0.4,
             "#fde0ef"
            ],
            [
             0.5,
             "#f7f7f7"
            ],
            [
             0.6,
             "#e6f5d0"
            ],
            [
             0.7,
             "#b8e186"
            ],
            [
             0.8,
             "#7fbc41"
            ],
            [
             0.9,
             "#4d9221"
            ],
            [
             1,
             "#276419"
            ]
           ],
           "sequential": [
            [
             0,
             "#0d0887"
            ],
            [
             0.1111111111111111,
             "#46039f"
            ],
            [
             0.2222222222222222,
             "#7201a8"
            ],
            [
             0.3333333333333333,
             "#9c179e"
            ],
            [
             0.4444444444444444,
             "#bd3786"
            ],
            [
             0.5555555555555556,
             "#d8576b"
            ],
            [
             0.6666666666666666,
             "#ed7953"
            ],
            [
             0.7777777777777778,
             "#fb9f3a"
            ],
            [
             0.8888888888888888,
             "#fdca26"
            ],
            [
             1,
             "#f0f921"
            ]
           ],
           "sequentialminus": [
            [
             0,
             "#0d0887"
            ],
            [
             0.1111111111111111,
             "#46039f"
            ],
            [
             0.2222222222222222,
             "#7201a8"
            ],
            [
             0.3333333333333333,
             "#9c179e"
            ],
            [
             0.4444444444444444,
             "#bd3786"
            ],
            [
             0.5555555555555556,
             "#d8576b"
            ],
            [
             0.6666666666666666,
             "#ed7953"
            ],
            [
             0.7777777777777778,
             "#fb9f3a"
            ],
            [
             0.8888888888888888,
             "#fdca26"
            ],
            [
             1,
             "#f0f921"
            ]
           ]
          },
          "colorway": [
           "#636efa",
           "#EF553B",
           "#00cc96",
           "#ab63fa",
           "#FFA15A",
           "#19d3f3",
           "#FF6692",
           "#B6E880",
           "#FF97FF",
           "#FECB52"
          ],
          "font": {
           "color": "#2a3f5f"
          },
          "geo": {
           "bgcolor": "white",
           "lakecolor": "white",
           "landcolor": "#E5ECF6",
           "showlakes": true,
           "showland": true,
           "subunitcolor": "white"
          },
          "hoverlabel": {
           "align": "left"
          },
          "hovermode": "closest",
          "mapbox": {
           "style": "light"
          },
          "paper_bgcolor": "white",
          "plot_bgcolor": "#E5ECF6",
          "polar": {
           "angularaxis": {
            "gridcolor": "white",
            "linecolor": "white",
            "ticks": ""
           },
           "bgcolor": "#E5ECF6",
           "radialaxis": {
            "gridcolor": "white",
            "linecolor": "white",
            "ticks": ""
           }
          },
          "scene": {
           "xaxis": {
            "backgroundcolor": "#E5ECF6",
            "gridcolor": "white",
            "gridwidth": 2,
            "linecolor": "white",
            "showbackground": true,
            "ticks": "",
            "zerolinecolor": "white"
           },
           "yaxis": {
            "backgroundcolor": "#E5ECF6",
            "gridcolor": "white",
            "gridwidth": 2,
            "linecolor": "white",
            "showbackground": true,
            "ticks": "",
            "zerolinecolor": "white"
           },
           "zaxis": {
            "backgroundcolor": "#E5ECF6",
            "gridcolor": "white",
            "gridwidth": 2,
            "linecolor": "white",
            "showbackground": true,
            "ticks": "",
            "zerolinecolor": "white"
           }
          },
          "shapedefaults": {
           "line": {
            "color": "#2a3f5f"
           }
          },
          "ternary": {
           "aaxis": {
            "gridcolor": "white",
            "linecolor": "white",
            "ticks": ""
           },
           "baxis": {
            "gridcolor": "white",
            "linecolor": "white",
            "ticks": ""
           },
           "bgcolor": "#E5ECF6",
           "caxis": {
            "gridcolor": "white",
            "linecolor": "white",
            "ticks": ""
           }
          },
          "title": {
           "x": 0.05
          },
          "xaxis": {
           "automargin": true,
           "gridcolor": "white",
           "linecolor": "white",
           "ticks": "",
           "title": {
            "standoff": 15
           },
           "zerolinecolor": "white",
           "zerolinewidth": 2
          },
          "yaxis": {
           "automargin": true,
           "gridcolor": "white",
           "linecolor": "white",
           "ticks": "",
           "title": {
            "standoff": 15
           },
           "zerolinecolor": "white",
           "zerolinewidth": 2
          }
         }
        },
        "title": {
         "text": "📈 Roll Frequency per Episode (Enhanced)"
        },
        "xaxis": {
         "title": {
          "text": "Episode Number"
         }
        },
        "yaxis": {
         "title": {
          "text": "Total Rolls"
         }
        }
       }
      }
     },
     "metadata": {},
     "output_type": "display_data"
    }
   ],
   "source": [
    "from statsmodels.nonparametric.smoothers_lowess import lowess\n",
    "\n",
    "# Group by episode\n",
    "episode_rolls = df.groupby(\"Episode_Num\").size().reset_index(name=\"Roll Count\")\n",
    "episode_rolls = episode_rolls.sort_values(\"Episode_Num\")\n",
    "\n",
    "# Generate smoothed trend\n",
    "smoothed = lowess(episode_rolls[\"Roll Count\"], episode_rolls[\"Episode_Num\"], frac=0.15)\n",
    "\n",
    "# Find top 3 spike episodes\n",
    "top_episodes = episode_rolls.nlargest(3, \"Roll Count\")\n",
    "\n",
    "# Create figure\n",
    "fig = go.Figure()\n",
    "\n",
    "# Main roll count line\n",
    "fig.add_trace(go.Scatter(\n",
    "    x=episode_rolls[\"Episode_Num\"],\n",
    "    y=episode_rolls[\"Roll Count\"],\n",
    "    mode=\"lines+markers\",\n",
    "    name=\"Roll Count\",\n",
    "    line=dict(color=\"royalblue\", width=2),\n",
    "    marker=dict(size=6)\n",
    "))\n",
    "\n",
    "# Smoothed trend line\n",
    "fig.add_trace(go.Scatter(\n",
    "    x=smoothed[:, 0],\n",
    "    y=smoothed[:, 1],\n",
    "    mode=\"lines\",\n",
    "    name=\"Trend Line\",\n",
    "    line=dict(color=\"firebrick\", dash=\"dot\", width=3)\n",
    "))\n",
    "\n",
    "# Highlight top 3 episodes\n",
    "for _, row in top_episodes.iterrows():\n",
    "    fig.add_annotation(\n",
    "        x=row[\"Episode_Num\"],\n",
    "        y=row[\"Roll Count\"],\n",
    "        text=f\"Ep {int(row['Episode_Num'])}\",\n",
    "        showarrow=True,\n",
    "        arrowhead=2,\n",
    "        ax=0,\n",
    "        ay=-40\n",
    "    )\n",
    "\n",
    "# Layout styling\n",
    "fig.update_layout(\n",
    "    title=\"📈 Roll Frequency per Episode (Enhanced)\",\n",
    "    xaxis_title=\"Episode Number\",\n",
    "    yaxis_title=\"Total Rolls\",\n",
    "    height=550,\n",
    "    plot_bgcolor=\"#f8f8f8\",\n",
    "    hovermode=\"x unified\"\n",
    ")\n",
    "\n",
    "fig.show()\n",
    "\n"
   ]
  },
  {
   "cell_type": "markdown",
   "metadata": {},
   "source": [
    "#### Insight: Pacing and Chaos Over Time\n",
    "\n",
    "This enhanced chart shows the number of dice rolls made in each episode of Campaign 2, along with a trend line to highlight broader pacing patterns.\n",
    "\n",
    "- **Spikes** represent action-heavy sessions—often major battles or chaotic moments.\n",
    "- **Dips** suggest quieter episodes focused on exploration, roleplay, or narrative development.\n",
    "- The **trend line** gives us a smoothed view of the campaign's overall pacing, revealing arcs of increasing or decreasing intensity.\n",
    "- **Highlighted points** mark the top three most roll-heavy episodes.\n",
    "***"
   ]
  },
  {
   "cell_type": "markdown",
   "metadata": {},
   "source": [
    "### Character Summary Statistics\n",
    "\n",
    "This table presents a summary of key performance metrics for each character:\n",
    "- Total rolls\n",
    "- Average roll value\n",
    "- Natural 1s\n",
    "- Natural 20s\n",
    "- Total damage dealt\n",
    "\n",
    "It gives a concise overview of each character’s dice-based footprint across the campaign.\n"
   ]
  },
  {
   "cell_type": "code",
   "execution_count": 58,
   "metadata": {},
   "outputs": [
    {
     "data": {
      "text/html": [
       "<div>\n",
       "<style scoped>\n",
       "    .dataframe tbody tr th:only-of-type {\n",
       "        vertical-align: middle;\n",
       "    }\n",
       "\n",
       "    .dataframe tbody tr th {\n",
       "        vertical-align: top;\n",
       "    }\n",
       "\n",
       "    .dataframe thead th {\n",
       "        text-align: right;\n",
       "    }\n",
       "</style>\n",
       "<table border=\"1\" class=\"dataframe\">\n",
       "  <thead>\n",
       "    <tr style=\"text-align: right;\">\n",
       "      <th></th>\n",
       "      <th>Character</th>\n",
       "      <th>Total_Rolls</th>\n",
       "      <th>Avg_Roll</th>\n",
       "      <th>Nat_1s</th>\n",
       "      <th>Nat_20s</th>\n",
       "      <th>Total_Damage</th>\n",
       "    </tr>\n",
       "  </thead>\n",
       "  <tbody>\n",
       "    <tr>\n",
       "      <th>0</th>\n",
       "      <td>Beau</td>\n",
       "      <td>2508</td>\n",
       "      <td>15.85</td>\n",
       "      <td>108</td>\n",
       "      <td>139</td>\n",
       "      <td>6585</td>\n",
       "    </tr>\n",
       "    <tr>\n",
       "      <th>6</th>\n",
       "      <td>Veth</td>\n",
       "      <td>1895</td>\n",
       "      <td>17.78</td>\n",
       "      <td>87</td>\n",
       "      <td>86</td>\n",
       "      <td>6007</td>\n",
       "    </tr>\n",
       "    <tr>\n",
       "      <th>3</th>\n",
       "      <td>Fjord</td>\n",
       "      <td>1726</td>\n",
       "      <td>16.14</td>\n",
       "      <td>65</td>\n",
       "      <td>109</td>\n",
       "      <td>5947</td>\n",
       "    </tr>\n",
       "    <tr>\n",
       "      <th>4</th>\n",
       "      <td>Jester</td>\n",
       "      <td>1660</td>\n",
       "      <td>15.57</td>\n",
       "      <td>83</td>\n",
       "      <td>71</td>\n",
       "      <td>4661</td>\n",
       "    </tr>\n",
       "    <tr>\n",
       "      <th>2</th>\n",
       "      <td>Caleb</td>\n",
       "      <td>1390</td>\n",
       "      <td>17.08</td>\n",
       "      <td>66</td>\n",
       "      <td>84</td>\n",
       "      <td>4376</td>\n",
       "    </tr>\n",
       "    <tr>\n",
       "      <th>7</th>\n",
       "      <td>Yasha</td>\n",
       "      <td>1140</td>\n",
       "      <td>17.41</td>\n",
       "      <td>56</td>\n",
       "      <td>65</td>\n",
       "      <td>5399</td>\n",
       "    </tr>\n",
       "    <tr>\n",
       "      <th>1</th>\n",
       "      <td>Caduceus</td>\n",
       "      <td>1079</td>\n",
       "      <td>16.59</td>\n",
       "      <td>28</td>\n",
       "      <td>49</td>\n",
       "      <td>3045</td>\n",
       "    </tr>\n",
       "    <tr>\n",
       "      <th>5</th>\n",
       "      <td>Molly</td>\n",
       "      <td>354</td>\n",
       "      <td>12.6</td>\n",
       "      <td>11</td>\n",
       "      <td>26</td>\n",
       "      <td>740</td>\n",
       "    </tr>\n",
       "  </tbody>\n",
       "</table>\n",
       "</div>"
      ],
      "text/plain": [
       "  Character  Total_Rolls  Avg_Roll  Nat_1s  Nat_20s  Total_Damage\n",
       "0      Beau         2508     15.85     108      139          6585\n",
       "6      Veth         1895     17.78      87       86          6007\n",
       "3     Fjord         1726     16.14      65      109          5947\n",
       "4    Jester         1660     15.57      83       71          4661\n",
       "2     Caleb         1390     17.08      66       84          4376\n",
       "7     Yasha         1140     17.41      56       65          5399\n",
       "1  Caduceus         1079     16.59      28       49          3045\n",
       "5     Molly          354      12.6      11       26           740"
      ]
     },
     "execution_count": 58,
     "metadata": {},
     "output_type": "execute_result"
    }
   ],
   "source": [
    "# Filter to main characters\n",
    "main_characters = [\"Beau\", \"Fjord\", \"Jester\", \"Veth\", \"Caleb\", \"Yasha\", \"Caduceus\", \"Molly\", \"Kingsley\"]\n",
    "filtered_df = df[df[\"Character\"].isin(main_characters)]\n",
    "\n",
    "# Group by character and compute summary stats\n",
    "summary_table = filtered_df.groupby(\"Character\").agg(\n",
    "    Total_Rolls=(\"Total Value\", \"count\"),\n",
    "    Avg_Roll=(\"Total Value\", \"mean\"),\n",
    "    Nat_1s=(\"Is_Nat1\", \"sum\"),\n",
    "    Nat_20s=(\"Is_Nat20\", \"sum\"),\n",
    "    Total_Damage=(\"Damage\", \"sum\")\n",
    ").reset_index()\n",
    "\n",
    "# Round the average roll for prettier display\n",
    "summary_table[\"Avg_Roll\"] = summary_table[\"Avg_Roll\"].round(2)\n",
    "\n",
    "# Sort by total rolls or whichever metric you like\n",
    "summary_table = summary_table.sort_values(\"Total_Rolls\", ascending=False)\n",
    "\n",
    "summary_table"
   ]
  },
  {
   "cell_type": "markdown",
   "metadata": {},
   "source": [
    "## Command to run streamlit app\n",
    "python -m streamlit run CA2_dashboard.py"
   ]
  }
 ],
 "metadata": {
  "kernelspec": {
   "display_name": "Python 3",
   "language": "python",
   "name": "python3"
  },
  "language_info": {
   "codemirror_mode": {
    "name": "ipython",
    "version": 3
   },
   "file_extension": ".py",
   "mimetype": "text/x-python",
   "name": "python",
   "nbconvert_exporter": "python",
   "pygments_lexer": "ipython3",
   "version": "3.12.6"
  }
 },
 "nbformat": 4,
 "nbformat_minor": 2
}
